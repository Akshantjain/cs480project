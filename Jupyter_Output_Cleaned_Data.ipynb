{
  "nbformat": 4,
  "nbformat_minor": 0,
  "metadata": {
    "kernelspec": {
      "display_name": "Python 3",
      "language": "python",
      "name": "python3"
    },
    "language_info": {
      "codemirror_mode": {
        "name": "ipython",
        "version": 3
      },
      "file_extension": ".py",
      "mimetype": "text/x-python",
      "name": "python",
      "nbconvert_exporter": "python",
      "pygments_lexer": "ipython3",
      "version": "3.8.3"
    },
    "colab": {
      "name": "CS480 - Group Project, Green Taxi Dataset2.ipynb",
      "provenance": [],
      "collapsed_sections": []
    }
  },
  "cells": [
    {
      "cell_type": "markdown",
      "metadata": {
        "id": "Ql0Sc-ItqgOB"
      },
      "source": [
        "# Clean 6 Months Data\n",
        "### Green Taxi Datasets"
      ]
    },
    {
      "cell_type": "code",
      "metadata": {
        "id": "p53-6otvqgOB"
      },
      "source": [
        "import matplotlib.pyplot as plt\n",
        "import pandas as pd\n",
        "import numpy as np\n",
        "from sklearn import preprocessing\n",
        "from sklearn.model_selection import train_test_split\n",
        "from datetime import datetime\n",
        "from math import radians, cos, sin, asin, sqrt\n",
        "import requests\n",
        "import json\n",
        "import time"
      ],
      "execution_count": null,
      "outputs": []
    },
    {
      "cell_type": "markdown",
      "metadata": {
        "id": "hXW6j3dIqgOB"
      },
      "source": [
        "#### 1. First, we will import the data in the system"
      ]
    },
    {
      "cell_type": "code",
      "metadata": {
        "colab": {
          "base_uri": "https://localhost:8080/"
        },
        "id": "0zRHIoV1qgOB",
        "outputId": "5df6a2a0-69a7-4b83-c6a3-49a37f43263f"
      },
      "source": [
        "start = time.time()\n",
        "green0 = pd.read_csv('green_tripdata_2015-01.csv')\n",
        "green1 = pd.read_csv('green_tripdata_2015-02.csv')\n",
        "green2 = pd.read_csv('green_tripdata_2015-03.csv')\n",
        "green3 = pd.read_csv('green_tripdata_2015-04.csv')\n",
        "green4 = pd.read_csv('green_tripdata_2015-05.csv')\n",
        "green5 = pd.read_csv('green_tripdata_2015-06.csv')\n",
        "\n",
        "\n",
        "green = pd.concat([green0,green1,green2,green3,green4,green5])\n",
        "# Here we are storing all the column names in a array named 'columns'\n",
        "columns = green.columns\n",
        "print(columns)\n",
        "end = time.time()\n",
        "print('Time Taken to process: ' ,end-start)"
      ],
      "execution_count": null,
      "outputs": [
        {
          "output_type": "stream",
          "text": [
            "Index(['VendorID', 'lpep_pickup_datetime', 'Lpep_dropoff_datetime',\n",
            "       'Store_and_fwd_flag', 'RateCodeID', 'Pickup_longitude',\n",
            "       'Pickup_latitude', 'Dropoff_longitude', 'Dropoff_latitude',\n",
            "       'Passenger_count', 'Trip_distance', 'Fare_amount', 'Extra', 'MTA_tax',\n",
            "       'Tip_amount', 'Tolls_amount', 'Ehail_fee', 'improvement_surcharge',\n",
            "       'Total_amount', 'Payment_type', 'Trip_type '],\n",
            "      dtype='object')\n",
            "Time Taken to process:  12.47181749343872\n"
          ],
          "name": "stdout"
        }
      ]
    },
    {
      "cell_type": "markdown",
      "metadata": {
        "id": "c-R6M0lGqgOC"
      },
      "source": [
        "#### 2. Now, we will get the summary of the datasets and then we will clean up the dataset"
      ]
    },
    {
      "cell_type": "code",
      "metadata": {
        "colab": {
          "base_uri": "https://localhost:8080/"
        },
        "id": "FFrSJDjVqgOC",
        "outputId": "f4052ef9-59bf-45c3-972c-ad844f41840c"
      },
      "source": [
        "green.insert(0,'trip_id',range(len(green)))"
      ],
      "execution_count": null,
      "outputs": [
        {
          "output_type": "stream",
          "text": [
            "Time Taken to process:  0.7889082431793213\n"
          ],
          "name": "stdout"
        }
      ]
    },
    {
      "cell_type": "code",
      "metadata": {
        "colab": {
          "base_uri": "https://localhost:8080/"
        },
        "id": "xDODgnT9qgOD",
        "outputId": "91bcbe86-c6d9-4847-b45d-6af3b133f00a"
      },
      "source": [
        "# Getting the values which needs to be cleaned up before procedding further\n",
        "start = time.time()\n",
        "print(\"\\u0332\".join('Number of Null data values in each columns:'))\n",
        "print(green.isnull().sum())\n",
        "print('')\n",
        "print(\"\\u0332\".join('Number of Datasets:'), len(green.index))"
      ],
      "execution_count": null,
      "outputs": [
        {
          "output_type": "stream",
          "text": [
            "N̲u̲m̲b̲e̲r̲ ̲o̲f̲ ̲N̲u̲l̲l̲ ̲d̲a̲t̲a̲ ̲v̲a̲l̲u̲e̲s̲ ̲i̲n̲ ̲e̲a̲c̲h̲ ̲c̲o̲l̲u̲m̲n̲s̲:\n",
            "trip_id                        0\n",
            "VendorID                       0\n",
            "lpep_pickup_datetime           0\n",
            "Lpep_dropoff_datetime          0\n",
            "Store_and_fwd_flag             0\n",
            "RateCodeID                     0\n",
            "Pickup_longitude               0\n",
            "Pickup_latitude                0\n",
            "Dropoff_longitude              0\n",
            "Dropoff_latitude               0\n",
            "Passenger_count                0\n",
            "Trip_distance                  0\n",
            "Fare_amount                    0\n",
            "Extra                          0\n",
            "MTA_tax                        0\n",
            "Tip_amount                     0\n",
            "Tolls_amount                   0\n",
            "Ehail_fee                6291450\n",
            "improvement_surcharge          0\n",
            "Total_amount                   0\n",
            "Payment_type                   0\n",
            "Trip_type                     10\n",
            "dtype: int64\n",
            "\n",
            "N̲u̲m̲b̲e̲r̲ ̲o̲f̲ ̲D̲a̲t̲a̲s̲e̲t̲s̲: 6291450\n"
          ],
          "name": "stdout"
        }
      ]
    },
    {
      "cell_type": "code",
      "metadata": {
        "colab": {
          "base_uri": "https://localhost:8080/"
        },
        "id": "v7BcSsacqgOD",
        "outputId": "86dac4a3-afd7-4f1f-93d0-f644c42515be"
      },
      "source": [
        "# Since the number of null values in the 'Ehail_fee' column is equal to the number of rows in the dataset\n",
        "# Therefore, we will drop the whole column due to its irrelevance.\n",
        "\n",
        "green = green.drop(columns=['Ehail_fee'])\n",
        "print(\"\\u0332\".join('Number of Null data values in each columns:'))\n",
        "print(green.isnull().sum())"
      ],
      "execution_count": null,
      "outputs": [
        {
          "output_type": "stream",
          "text": [
            "N̲u̲m̲b̲e̲r̲ ̲o̲f̲ ̲N̲u̲l̲l̲ ̲d̲a̲t̲a̲ ̲v̲a̲l̲u̲e̲s̲ ̲i̲n̲ ̲e̲a̲c̲h̲ ̲c̲o̲l̲u̲m̲n̲s̲:\n",
            "trip_id                   0\n",
            "VendorID                  0\n",
            "lpep_pickup_datetime      0\n",
            "Lpep_dropoff_datetime     0\n",
            "Store_and_fwd_flag        0\n",
            "RateCodeID                0\n",
            "Pickup_longitude          0\n",
            "Pickup_latitude           0\n",
            "Dropoff_longitude         0\n",
            "Dropoff_latitude          0\n",
            "Passenger_count           0\n",
            "Trip_distance             0\n",
            "Fare_amount               0\n",
            "Extra                     0\n",
            "MTA_tax                   0\n",
            "Tip_amount                0\n",
            "Tolls_amount              0\n",
            "improvement_surcharge     0\n",
            "Total_amount              0\n",
            "Payment_type              0\n",
            "Trip_type                10\n",
            "dtype: int64\n"
          ],
          "name": "stdout"
        }
      ]
    },
    {
      "cell_type": "code",
      "metadata": {
        "id": "6FqWOnFIqgOD"
      },
      "source": [
        "# In the boxplot, we can see that '2.0' is an outlier, therefore majority of the dataset have value '1'\n",
        "# So, we will replace the null values with '1'\n",
        "green['Trip_type '] = green['Trip_type '].fillna(1)"
      ],
      "execution_count": null,
      "outputs": []
    },
    {
      "cell_type": "code",
      "metadata": {
        "scrolled": true,
        "colab": {
          "base_uri": "https://localhost:8080/"
        },
        "id": "0drFkWj9qgOD",
        "outputId": "13bcc29e-6a40-4549-ace8-c2e1ba7ff602"
      },
      "source": [
        "# Now there are no null values in the dataset\n",
        "# Update the columns variable according to the new cleaned up value\n",
        "columns = green.columns\n",
        "print(\"\\u0332\".join('Number of Null data values in each columns:'))\n",
        "print(green.isnull().sum())"
      ],
      "execution_count": null,
      "outputs": [
        {
          "output_type": "stream",
          "text": [
            "N̲u̲m̲b̲e̲r̲ ̲o̲f̲ ̲N̲u̲l̲l̲ ̲d̲a̲t̲a̲ ̲v̲a̲l̲u̲e̲s̲ ̲i̲n̲ ̲e̲a̲c̲h̲ ̲c̲o̲l̲u̲m̲n̲s̲:\n",
            "trip_id                  0\n",
            "VendorID                 0\n",
            "lpep_pickup_datetime     0\n",
            "Lpep_dropoff_datetime    0\n",
            "Store_and_fwd_flag       0\n",
            "RateCodeID               0\n",
            "Pickup_longitude         0\n",
            "Pickup_latitude          0\n",
            "Dropoff_longitude        0\n",
            "Dropoff_latitude         0\n",
            "Passenger_count          0\n",
            "Trip_distance            0\n",
            "Fare_amount              0\n",
            "Extra                    0\n",
            "MTA_tax                  0\n",
            "Tip_amount               0\n",
            "Tolls_amount             0\n",
            "improvement_surcharge    0\n",
            "Total_amount             0\n",
            "Payment_type             0\n",
            "Trip_type                0\n",
            "dtype: int64\n"
          ],
          "name": "stdout"
        }
      ]
    },
    {
      "cell_type": "markdown",
      "metadata": {
        "id": "6JfLnePQqgOD"
      },
      "source": [
        "#### 3. Now,filter out the data which we need to use for our algorithms"
      ]
    },
    {
      "cell_type": "code",
      "metadata": {
        "colab": {
          "base_uri": "https://localhost:8080/"
        },
        "id": "3M4GQSPcqgOD",
        "outputId": "479048b7-abcf-46cb-c71a-d118266f65cd"
      },
      "source": [
        "dataset = green[['trip_id','VendorID', 'lpep_pickup_datetime', 'Lpep_dropoff_datetime', 'Pickup_longitude', 'Pickup_latitude','Dropoff_longitude','Dropoff_latitude', 'Passenger_count', 'Trip_distance']]\n",
        "print(\"\\u0332\".join('Dataset:'), len(dataset.index))\n",
        "dataset = dataset[dataset.Passenger_count < 3]\n",
        "dataset = dataset[dataset.Trip_distance != 0]\n",
        "print(\"\\u0332\".join('Filtered Dataset:'), len(dataset.index))"
      ],
      "execution_count": null,
      "outputs": [
        {
          "output_type": "stream",
          "text": [
            "D̲a̲t̲a̲s̲e̲t̲: 6291450\n",
            "F̲i̲l̲t̲e̲r̲e̲d̲ ̲D̲a̲t̲a̲s̲e̲t̲: 5664142\n",
            "Time Taken to process:  14.211508512496948\n"
          ],
          "name": "stdout"
        }
      ]
    },
    {
      "cell_type": "code",
      "metadata": {
        "id": "Jd9xg9CwqgOE"
      },
      "source": [
        "\n",
        "dataset['lpep_pickup_datetime'] = pd.to_datetime(dataset['lpep_pickup_datetime'])\n",
        "dataset['Lpep_dropoff_datetime'] = pd.to_datetime(dataset['Lpep_dropoff_datetime'])"
      ],
      "execution_count": null,
      "outputs": []
    },
    {
      "cell_type": "markdown",
      "metadata": {
        "id": "UStBeAh07W8x"
      },
      "source": [
        "4.Output to cleaned data to CSV"
      ]
    },
    {
      "cell_type": "code",
      "metadata": {
        "id": "4hIcEVkHiDKm"
      },
      "source": [
        "dataset.to_csv('green_tripdata_2015_6months_cleaned.csv', index=False)"
      ],
      "execution_count": null,
      "outputs": []
    }
  ]
}