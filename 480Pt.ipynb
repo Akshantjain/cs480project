{
 "cells": [
  {
   "cell_type": "code",
   "execution_count": 1,
   "metadata": {
    "id": "o61jrjKC8XpB"
   },
   "outputs": [],
   "source": [
    "#import pymysql\n",
    "import matplotlib.pyplot as plt\n",
    "import pandas as pd\n",
    "import numpy as np\n",
    "from datetime import datetime\n",
    "from math import radians, cos, sin, asin, sqrt, pi\n",
    "import time"
   ]
  },
  {
   "cell_type": "code",
   "execution_count": 2,
   "metadata": {
    "colab": {
     "base_uri": "https://localhost:8080/",
     "height": 427
    },
    "id": "pWmHLmP1BRco",
    "outputId": "1ec1441a-ee16-4136-83e9-9f6e19f1297d"
   },
   "outputs": [
    {
     "data": {
      "text/html": [
       "<div>\n",
       "<style scoped>\n",
       "    .dataframe tbody tr th:only-of-type {\n",
       "        vertical-align: middle;\n",
       "    }\n",
       "\n",
       "    .dataframe tbody tr th {\n",
       "        vertical-align: top;\n",
       "    }\n",
       "\n",
       "    .dataframe thead th {\n",
       "        text-align: right;\n",
       "    }\n",
       "</style>\n",
       "<table border=\"1\" class=\"dataframe\">\n",
       "  <thead>\n",
       "    <tr style=\"text-align: right;\">\n",
       "      <th></th>\n",
       "      <th>trip_id</th>\n",
       "      <th>VendorID</th>\n",
       "      <th>lpep_pickup_datetime</th>\n",
       "      <th>Lpep_dropoff_datetime</th>\n",
       "      <th>Pickup_longitude</th>\n",
       "      <th>Pickup_latitude</th>\n",
       "      <th>Dropoff_longitude</th>\n",
       "      <th>Dropoff_latitude</th>\n",
       "      <th>Passenger_count</th>\n",
       "      <th>Trip_distance</th>\n",
       "    </tr>\n",
       "  </thead>\n",
       "  <tbody>\n",
       "    <tr>\n",
       "      <th>0</th>\n",
       "      <td>0</td>\n",
       "      <td>2</td>\n",
       "      <td>2015-01-01 00:34:00</td>\n",
       "      <td>2015-01-01 00:38:00</td>\n",
       "      <td>-73.922592</td>\n",
       "      <td>40.754528</td>\n",
       "      <td>-73.913635</td>\n",
       "      <td>40.765522</td>\n",
       "      <td>1</td>\n",
       "      <td>0.88</td>\n",
       "    </tr>\n",
       "    <tr>\n",
       "      <th>1</th>\n",
       "      <td>1</td>\n",
       "      <td>2</td>\n",
       "      <td>2015-01-01 00:34:00</td>\n",
       "      <td>2015-01-01 00:47:00</td>\n",
       "      <td>-73.952751</td>\n",
       "      <td>40.677711</td>\n",
       "      <td>-73.981529</td>\n",
       "      <td>40.658978</td>\n",
       "      <td>1</td>\n",
       "      <td>3.08</td>\n",
       "    </tr>\n",
       "    <tr>\n",
       "      <th>2</th>\n",
       "      <td>2</td>\n",
       "      <td>1</td>\n",
       "      <td>2015-01-01 00:34:00</td>\n",
       "      <td>2015-01-01 00:38:00</td>\n",
       "      <td>-73.843010</td>\n",
       "      <td>40.719055</td>\n",
       "      <td>-73.846581</td>\n",
       "      <td>40.711567</td>\n",
       "      <td>1</td>\n",
       "      <td>0.90</td>\n",
       "    </tr>\n",
       "    <tr>\n",
       "      <th>3</th>\n",
       "      <td>3</td>\n",
       "      <td>2</td>\n",
       "      <td>2015-01-01 00:34:00</td>\n",
       "      <td>2015-01-01 00:38:00</td>\n",
       "      <td>-73.860825</td>\n",
       "      <td>40.757793</td>\n",
       "      <td>-73.854042</td>\n",
       "      <td>40.749821</td>\n",
       "      <td>1</td>\n",
       "      <td>0.85</td>\n",
       "    </tr>\n",
       "    <tr>\n",
       "      <th>4</th>\n",
       "      <td>4</td>\n",
       "      <td>2</td>\n",
       "      <td>2015-01-01 00:34:00</td>\n",
       "      <td>2015-01-01 01:09:00</td>\n",
       "      <td>-73.945183</td>\n",
       "      <td>40.783321</td>\n",
       "      <td>-73.989624</td>\n",
       "      <td>40.765450</td>\n",
       "      <td>1</td>\n",
       "      <td>4.91</td>\n",
       "    </tr>\n",
       "    <tr>\n",
       "      <th>...</th>\n",
       "      <td>...</td>\n",
       "      <td>...</td>\n",
       "      <td>...</td>\n",
       "      <td>...</td>\n",
       "      <td>...</td>\n",
       "      <td>...</td>\n",
       "      <td>...</td>\n",
       "      <td>...</td>\n",
       "      <td>...</td>\n",
       "      <td>...</td>\n",
       "    </tr>\n",
       "    <tr>\n",
       "      <th>5664137</th>\n",
       "      <td>6291445</td>\n",
       "      <td>2</td>\n",
       "      <td>2015-06-20 00:14:00</td>\n",
       "      <td>2015-06-20 00:29:00</td>\n",
       "      <td>-73.974670</td>\n",
       "      <td>40.675674</td>\n",
       "      <td>-74.024437</td>\n",
       "      <td>40.632187</td>\n",
       "      <td>2</td>\n",
       "      <td>5.12</td>\n",
       "    </tr>\n",
       "    <tr>\n",
       "      <th>5664138</th>\n",
       "      <td>6291446</td>\n",
       "      <td>2</td>\n",
       "      <td>2015-06-20 00:46:00</td>\n",
       "      <td>2015-06-20 00:58:00</td>\n",
       "      <td>-73.925591</td>\n",
       "      <td>40.827526</td>\n",
       "      <td>-73.901360</td>\n",
       "      <td>40.813095</td>\n",
       "      <td>1</td>\n",
       "      <td>2.06</td>\n",
       "    </tr>\n",
       "    <tr>\n",
       "      <th>5664139</th>\n",
       "      <td>6291447</td>\n",
       "      <td>2</td>\n",
       "      <td>2015-06-20 00:34:00</td>\n",
       "      <td>2015-06-20 00:56:00</td>\n",
       "      <td>-74.002174</td>\n",
       "      <td>40.686096</td>\n",
       "      <td>-73.946541</td>\n",
       "      <td>40.660374</td>\n",
       "      <td>1</td>\n",
       "      <td>4.77</td>\n",
       "    </tr>\n",
       "    <tr>\n",
       "      <th>5664140</th>\n",
       "      <td>6291448</td>\n",
       "      <td>2</td>\n",
       "      <td>2015-06-20 00:28:00</td>\n",
       "      <td>2015-06-20 00:38:00</td>\n",
       "      <td>-73.907410</td>\n",
       "      <td>40.836094</td>\n",
       "      <td>-73.919334</td>\n",
       "      <td>40.864067</td>\n",
       "      <td>1</td>\n",
       "      <td>3.66</td>\n",
       "    </tr>\n",
       "    <tr>\n",
       "      <th>5664141</th>\n",
       "      <td>6291449</td>\n",
       "      <td>2</td>\n",
       "      <td>2015-06-20 00:51:00</td>\n",
       "      <td>2015-06-20 00:57:00</td>\n",
       "      <td>-73.936539</td>\n",
       "      <td>40.820545</td>\n",
       "      <td>-73.948998</td>\n",
       "      <td>40.828224</td>\n",
       "      <td>1</td>\n",
       "      <td>1.04</td>\n",
       "    </tr>\n",
       "  </tbody>\n",
       "</table>\n",
       "<p>5664142 rows × 10 columns</p>\n",
       "</div>"
      ],
      "text/plain": [
       "         trip_id  VendorID lpep_pickup_datetime Lpep_dropoff_datetime  \\\n",
       "0              0         2  2015-01-01 00:34:00   2015-01-01 00:38:00   \n",
       "1              1         2  2015-01-01 00:34:00   2015-01-01 00:47:00   \n",
       "2              2         1  2015-01-01 00:34:00   2015-01-01 00:38:00   \n",
       "3              3         2  2015-01-01 00:34:00   2015-01-01 00:38:00   \n",
       "4              4         2  2015-01-01 00:34:00   2015-01-01 01:09:00   \n",
       "...          ...       ...                  ...                   ...   \n",
       "5664137  6291445         2  2015-06-20 00:14:00   2015-06-20 00:29:00   \n",
       "5664138  6291446         2  2015-06-20 00:46:00   2015-06-20 00:58:00   \n",
       "5664139  6291447         2  2015-06-20 00:34:00   2015-06-20 00:56:00   \n",
       "5664140  6291448         2  2015-06-20 00:28:00   2015-06-20 00:38:00   \n",
       "5664141  6291449         2  2015-06-20 00:51:00   2015-06-20 00:57:00   \n",
       "\n",
       "         Pickup_longitude  Pickup_latitude  Dropoff_longitude  \\\n",
       "0              -73.922592        40.754528         -73.913635   \n",
       "1              -73.952751        40.677711         -73.981529   \n",
       "2              -73.843010        40.719055         -73.846581   \n",
       "3              -73.860825        40.757793         -73.854042   \n",
       "4              -73.945183        40.783321         -73.989624   \n",
       "...                   ...              ...                ...   \n",
       "5664137        -73.974670        40.675674         -74.024437   \n",
       "5664138        -73.925591        40.827526         -73.901360   \n",
       "5664139        -74.002174        40.686096         -73.946541   \n",
       "5664140        -73.907410        40.836094         -73.919334   \n",
       "5664141        -73.936539        40.820545         -73.948998   \n",
       "\n",
       "         Dropoff_latitude  Passenger_count  Trip_distance  \n",
       "0               40.765522                1           0.88  \n",
       "1               40.658978                1           3.08  \n",
       "2               40.711567                1           0.90  \n",
       "3               40.749821                1           0.85  \n",
       "4               40.765450                1           4.91  \n",
       "...                   ...              ...            ...  \n",
       "5664137         40.632187                2           5.12  \n",
       "5664138         40.813095                1           2.06  \n",
       "5664139         40.660374                1           4.77  \n",
       "5664140         40.864067                1           3.66  \n",
       "5664141         40.828224                1           1.04  \n",
       "\n",
       "[5664142 rows x 10 columns]"
      ]
     },
     "execution_count": 2,
     "metadata": {},
     "output_type": "execute_result"
    }
   ],
   "source": [
    "#load sample csv\n",
    "dataset = pd.read_csv('green_tripdata_2015_6months_cleaned.csv')\n",
    "dataset"
   ]
  },
  {
   "cell_type": "code",
   "execution_count": 3,
   "metadata": {
    "colab": {
     "base_uri": "https://localhost:8080/",
     "height": 427
    },
    "id": "W85Rj1YXgSmK",
    "outputId": "c5fe9615-f89b-45d0-a52c-0ce12defcab5"
   },
   "outputs": [
    {
     "data": {
      "text/html": [
       "<div>\n",
       "<style scoped>\n",
       "    .dataframe tbody tr th:only-of-type {\n",
       "        vertical-align: middle;\n",
       "    }\n",
       "\n",
       "    .dataframe tbody tr th {\n",
       "        vertical-align: top;\n",
       "    }\n",
       "\n",
       "    .dataframe thead th {\n",
       "        text-align: right;\n",
       "    }\n",
       "</style>\n",
       "<table border=\"1\" class=\"dataframe\">\n",
       "  <thead>\n",
       "    <tr style=\"text-align: right;\">\n",
       "      <th></th>\n",
       "      <th>trip_id</th>\n",
       "      <th>VendorID</th>\n",
       "      <th>lpep_pickup_datetime</th>\n",
       "      <th>Lpep_dropoff_datetime</th>\n",
       "      <th>Pickup_longitude</th>\n",
       "      <th>Pickup_latitude</th>\n",
       "      <th>Dropoff_longitude</th>\n",
       "      <th>Dropoff_latitude</th>\n",
       "      <th>Passenger_count</th>\n",
       "      <th>Trip_distance</th>\n",
       "    </tr>\n",
       "  </thead>\n",
       "  <tbody>\n",
       "    <tr>\n",
       "      <th>1551</th>\n",
       "      <td>1756</td>\n",
       "      <td>2</td>\n",
       "      <td>2015-01-01 00:00:00</td>\n",
       "      <td>2015-01-01 00:00:00</td>\n",
       "      <td>-73.961418</td>\n",
       "      <td>40.806293</td>\n",
       "      <td>-73.948746</td>\n",
       "      <td>40.823627</td>\n",
       "      <td>1</td>\n",
       "      <td>1.39</td>\n",
       "    </tr>\n",
       "    <tr>\n",
       "      <th>928</th>\n",
       "      <td>1037</td>\n",
       "      <td>2</td>\n",
       "      <td>2015-01-01 00:02:00</td>\n",
       "      <td>2015-01-01 00:02:00</td>\n",
       "      <td>-73.962280</td>\n",
       "      <td>40.710976</td>\n",
       "      <td>-73.961945</td>\n",
       "      <td>40.710575</td>\n",
       "      <td>1</td>\n",
       "      <td>0.02</td>\n",
       "    </tr>\n",
       "    <tr>\n",
       "      <th>1129</th>\n",
       "      <td>1261</td>\n",
       "      <td>2</td>\n",
       "      <td>2015-01-01 00:02:00</td>\n",
       "      <td>2015-01-01 00:02:00</td>\n",
       "      <td>-73.962280</td>\n",
       "      <td>40.710976</td>\n",
       "      <td>-73.961945</td>\n",
       "      <td>40.710575</td>\n",
       "      <td>1</td>\n",
       "      <td>0.02</td>\n",
       "    </tr>\n",
       "    <tr>\n",
       "      <th>1130</th>\n",
       "      <td>1262</td>\n",
       "      <td>2</td>\n",
       "      <td>2015-01-01 00:01:00</td>\n",
       "      <td>2015-01-01 00:03:00</td>\n",
       "      <td>-73.945656</td>\n",
       "      <td>40.790138</td>\n",
       "      <td>-73.941597</td>\n",
       "      <td>40.798737</td>\n",
       "      <td>1</td>\n",
       "      <td>0.89</td>\n",
       "    </tr>\n",
       "    <tr>\n",
       "      <th>1026</th>\n",
       "      <td>1145</td>\n",
       "      <td>2</td>\n",
       "      <td>2015-01-01 00:01:00</td>\n",
       "      <td>2015-01-01 00:03:00</td>\n",
       "      <td>-73.946648</td>\n",
       "      <td>40.682499</td>\n",
       "      <td>-73.949623</td>\n",
       "      <td>40.682560</td>\n",
       "      <td>1</td>\n",
       "      <td>0.18</td>\n",
       "    </tr>\n",
       "    <tr>\n",
       "      <th>...</th>\n",
       "      <td>...</td>\n",
       "      <td>...</td>\n",
       "      <td>...</td>\n",
       "      <td>...</td>\n",
       "      <td>...</td>\n",
       "      <td>...</td>\n",
       "      <td>...</td>\n",
       "      <td>...</td>\n",
       "      <td>...</td>\n",
       "      <td>...</td>\n",
       "    </tr>\n",
       "    <tr>\n",
       "      <th>527664</th>\n",
       "      <td>589527</td>\n",
       "      <td>2</td>\n",
       "      <td>2015-12-01 23:53:00</td>\n",
       "      <td>2015-12-01 23:59:00</td>\n",
       "      <td>-73.890945</td>\n",
       "      <td>40.746796</td>\n",
       "      <td>-73.868858</td>\n",
       "      <td>40.742237</td>\n",
       "      <td>1</td>\n",
       "      <td>1.33</td>\n",
       "    </tr>\n",
       "    <tr>\n",
       "      <th>527406</th>\n",
       "      <td>589248</td>\n",
       "      <td>2</td>\n",
       "      <td>2015-12-01 23:58:00</td>\n",
       "      <td>2015-12-01 23:59:00</td>\n",
       "      <td>-73.955795</td>\n",
       "      <td>40.818897</td>\n",
       "      <td>-73.951828</td>\n",
       "      <td>40.821140</td>\n",
       "      <td>1</td>\n",
       "      <td>0.32</td>\n",
       "    </tr>\n",
       "    <tr>\n",
       "      <th>527120</th>\n",
       "      <td>588936</td>\n",
       "      <td>2</td>\n",
       "      <td>2015-12-01 23:48:00</td>\n",
       "      <td>2015-12-01 23:59:00</td>\n",
       "      <td>-73.921967</td>\n",
       "      <td>40.840813</td>\n",
       "      <td>-73.862938</td>\n",
       "      <td>40.834293</td>\n",
       "      <td>1</td>\n",
       "      <td>5.65</td>\n",
       "    </tr>\n",
       "    <tr>\n",
       "      <th>526082</th>\n",
       "      <td>587794</td>\n",
       "      <td>2</td>\n",
       "      <td>2015-12-01 23:56:00</td>\n",
       "      <td>2015-12-01 23:59:00</td>\n",
       "      <td>-73.936348</td>\n",
       "      <td>40.803864</td>\n",
       "      <td>-73.934830</td>\n",
       "      <td>40.800678</td>\n",
       "      <td>1</td>\n",
       "      <td>0.31</td>\n",
       "    </tr>\n",
       "    <tr>\n",
       "      <th>527141</th>\n",
       "      <td>588959</td>\n",
       "      <td>2</td>\n",
       "      <td>2015-12-01 23:39:00</td>\n",
       "      <td>2015-12-01 23:59:00</td>\n",
       "      <td>-73.944374</td>\n",
       "      <td>40.714043</td>\n",
       "      <td>-73.959953</td>\n",
       "      <td>40.657242</td>\n",
       "      <td>1</td>\n",
       "      <td>4.92</td>\n",
       "    </tr>\n",
       "  </tbody>\n",
       "</table>\n",
       "<p>5664142 rows × 10 columns</p>\n",
       "</div>"
      ],
      "text/plain": [
       "        trip_id  VendorID lpep_pickup_datetime Lpep_dropoff_datetime  \\\n",
       "1551       1756         2  2015-01-01 00:00:00   2015-01-01 00:00:00   \n",
       "928        1037         2  2015-01-01 00:02:00   2015-01-01 00:02:00   \n",
       "1129       1261         2  2015-01-01 00:02:00   2015-01-01 00:02:00   \n",
       "1130       1262         2  2015-01-01 00:01:00   2015-01-01 00:03:00   \n",
       "1026       1145         2  2015-01-01 00:01:00   2015-01-01 00:03:00   \n",
       "...         ...       ...                  ...                   ...   \n",
       "527664   589527         2  2015-12-01 23:53:00   2015-12-01 23:59:00   \n",
       "527406   589248         2  2015-12-01 23:58:00   2015-12-01 23:59:00   \n",
       "527120   588936         2  2015-12-01 23:48:00   2015-12-01 23:59:00   \n",
       "526082   587794         2  2015-12-01 23:56:00   2015-12-01 23:59:00   \n",
       "527141   588959         2  2015-12-01 23:39:00   2015-12-01 23:59:00   \n",
       "\n",
       "        Pickup_longitude  Pickup_latitude  Dropoff_longitude  \\\n",
       "1551          -73.961418        40.806293         -73.948746   \n",
       "928           -73.962280        40.710976         -73.961945   \n",
       "1129          -73.962280        40.710976         -73.961945   \n",
       "1130          -73.945656        40.790138         -73.941597   \n",
       "1026          -73.946648        40.682499         -73.949623   \n",
       "...                  ...              ...                ...   \n",
       "527664        -73.890945        40.746796         -73.868858   \n",
       "527406        -73.955795        40.818897         -73.951828   \n",
       "527120        -73.921967        40.840813         -73.862938   \n",
       "526082        -73.936348        40.803864         -73.934830   \n",
       "527141        -73.944374        40.714043         -73.959953   \n",
       "\n",
       "        Dropoff_latitude  Passenger_count  Trip_distance  \n",
       "1551           40.823627                1           1.39  \n",
       "928            40.710575                1           0.02  \n",
       "1129           40.710575                1           0.02  \n",
       "1130           40.798737                1           0.89  \n",
       "1026           40.682560                1           0.18  \n",
       "...                  ...              ...            ...  \n",
       "527664         40.742237                1           1.33  \n",
       "527406         40.821140                1           0.32  \n",
       "527120         40.834293                1           5.65  \n",
       "526082         40.800678                1           0.31  \n",
       "527141         40.657242                1           4.92  \n",
       "\n",
       "[5664142 rows x 10 columns]"
      ]
     },
     "execution_count": 3,
     "metadata": {},
     "output_type": "execute_result"
    }
   ],
   "source": [
    "dataset = dataset.sort_values(by = 'lpep_pickup_datetime')\n",
    "dataset = dataset.sort_values(by = 'Lpep_dropoff_datetime')\n",
    "dataset"
   ]
  },
  {
   "cell_type": "code",
   "execution_count": 4,
   "metadata": {
    "colab": {
     "base_uri": "https://localhost:8080/"
    },
    "id": "AXXocstp_vys",
    "outputId": "c2d83681-5c5e-4414-a4e7-fc09b9cd37d7"
   },
   "outputs": [
    {
     "name": "stdout",
     "output_type": "stream",
     "text": [
      "total trips: 5664142\n"
     ]
    }
   ],
   "source": [
    "#count total trips\n",
    "print('total trips:', len(dataset))"
   ]
  },
  {
   "cell_type": "code",
   "execution_count": 5,
   "metadata": {
    "colab": {
     "base_uri": "https://localhost:8080/"
    },
    "id": "DGw6I-sn_v78",
    "outputId": "e739a8a0-2c5c-4981-ce25-7a9b85450984"
   },
   "outputs": [
    {
     "name": "stdout",
     "output_type": "stream",
     "text": [
      "T̲o̲t̲a̲l̲ ̲D̲i̲s̲t̲a̲n̲c̲e̲ ̲T̲r̲a̲v̲e̲l̲l̲e̲d̲: 16363569.300000012\n"
     ]
    }
   ],
   "source": [
    "#count total distance/miles driven\n",
    "print(\"\\u0332\".join('Total Distance Travelled:'), dataset['Trip_distance'].sum())"
   ]
  },
  {
   "cell_type": "code",
   "execution_count": 6,
   "metadata": {
    "id": "BOhlysjAiDQs"
   },
   "outputs": [],
   "source": [
    "def distance(lat1, lon1, lat2, lon2): \n",
    "      \n",
    "    # The math module contains a function named \n",
    "    # radians which converts from degrees to radians. \n",
    "    lon1 = radians(lon1) \n",
    "    lon2 = radians(lon2) \n",
    "    lat1 = radians(lat1) \n",
    "    lat2 = radians(lat2) \n",
    "       \n",
    "    # Haversine formula  \n",
    "    dlon = lon2 - lon1  \n",
    "    dlat = lat2 - lat1 \n",
    "  \n",
    "    return (3956 * 2 * asin(sqrt(sin(dlat / 2)**2 + cos(lat1) * cos(lat2) * sin(dlon / 2)**2)))\n",
    "     \n",
    "    # Radius of earth in kilometers. Use 3956 for miles \n",
    "    # calculate the result \n",
    "    # (c * r) \n",
    "\n",
    "def time_difference(time1, time2):\n",
    "    time_diff = (time2 - time1)\n",
    "    time_seconds = abs(time_diff.total_seconds())\n",
    "    \n",
    "    return time_seconds / 60.0"
   ]
  },
  {
   "cell_type": "code",
   "execution_count": 7,
   "metadata": {
    "id": "EGCA12BPxRXB"
   },
   "outputs": [],
   "source": [
    "dataset['lpep_pickup_datetime'] = pd.to_datetime(dataset['lpep_pickup_datetime'])\n",
    "dataset['Lpep_dropoff_datetime'] = pd.to_datetime(dataset['Lpep_dropoff_datetime'])"
   ]
  },
  {
   "cell_type": "code",
   "execution_count": 8,
   "metadata": {
    "colab": {
     "base_uri": "https://localhost:8080/",
     "height": 571
    },
    "id": "Y0M-Y0cYwomr",
    "outputId": "6ffde62e-3796-4e6b-c134-99b7196b766d"
   },
   "outputs": [
    {
     "ename": "ZeroDivisionError",
     "evalue": "float division by zero",
     "output_type": "error",
     "traceback": [
      "\u001b[0;31m---------------------------------------------------------------------------\u001b[0m",
      "\u001b[0;31mZeroDivisionError\u001b[0m                         Traceback (most recent call last)",
      "\u001b[0;32m<ipython-input-8-81284858e5d5>\u001b[0m in \u001b[0;36m<module>\u001b[0;34m\u001b[0m\n\u001b[1;32m      4\u001b[0m \u001b[0;31m# dataset = dataset[dataset[\"time\"] != 0]\u001b[0m\u001b[0;34m\u001b[0m\u001b[0;34m\u001b[0m\u001b[0;34m\u001b[0m\u001b[0m\n\u001b[1;32m      5\u001b[0m \u001b[0;34m\u001b[0m\u001b[0m\n\u001b[0;32m----> 6\u001b[0;31m \u001b[0mdataset\u001b[0m\u001b[0;34m[\u001b[0m\u001b[0;34m'Average Speed (MPH)'\u001b[0m\u001b[0;34m]\u001b[0m \u001b[0;34m=\u001b[0m \u001b[0mdataset\u001b[0m\u001b[0;34m.\u001b[0m\u001b[0mapply\u001b[0m\u001b[0;34m(\u001b[0m\u001b[0;32mlambda\u001b[0m \u001b[0mrow\u001b[0m \u001b[0;34m:\u001b[0m \u001b[0mrow\u001b[0m\u001b[0;34m.\u001b[0m\u001b[0mTrip_distance\u001b[0m \u001b[0;34m/\u001b[0m \u001b[0;34m(\u001b[0m\u001b[0mtime_difference\u001b[0m\u001b[0;34m(\u001b[0m\u001b[0mrow\u001b[0m\u001b[0;34m.\u001b[0m\u001b[0mlpep_pickup_datetime\u001b[0m\u001b[0;34m,\u001b[0m \u001b[0mrow\u001b[0m\u001b[0;34m.\u001b[0m\u001b[0mLpep_dropoff_datetime\u001b[0m\u001b[0;34m)\u001b[0m \u001b[0;34m/\u001b[0m \u001b[0;36m60.0\u001b[0m\u001b[0;34m)\u001b[0m\u001b[0;34m,\u001b[0m \u001b[0maxis\u001b[0m \u001b[0;34m=\u001b[0m \u001b[0;36m1\u001b[0m\u001b[0;34m)\u001b[0m\u001b[0;34m\u001b[0m\u001b[0;34m\u001b[0m\u001b[0m\n\u001b[0m\u001b[1;32m      7\u001b[0m \u001b[0mdataset\u001b[0m\u001b[0;34m\u001b[0m\u001b[0;34m\u001b[0m\u001b[0m\n",
      "\u001b[0;32m~/opt/anaconda3/lib/python3.8/site-packages/pandas/core/frame.py\u001b[0m in \u001b[0;36mapply\u001b[0;34m(self, func, axis, raw, result_type, args, **kwds)\u001b[0m\n\u001b[1;32m   6876\u001b[0m             \u001b[0mkwds\u001b[0m\u001b[0;34m=\u001b[0m\u001b[0mkwds\u001b[0m\u001b[0;34m,\u001b[0m\u001b[0;34m\u001b[0m\u001b[0;34m\u001b[0m\u001b[0m\n\u001b[1;32m   6877\u001b[0m         )\n\u001b[0;32m-> 6878\u001b[0;31m         \u001b[0;32mreturn\u001b[0m \u001b[0mop\u001b[0m\u001b[0;34m.\u001b[0m\u001b[0mget_result\u001b[0m\u001b[0;34m(\u001b[0m\u001b[0;34m)\u001b[0m\u001b[0;34m\u001b[0m\u001b[0;34m\u001b[0m\u001b[0m\n\u001b[0m\u001b[1;32m   6879\u001b[0m \u001b[0;34m\u001b[0m\u001b[0m\n\u001b[1;32m   6880\u001b[0m     \u001b[0;32mdef\u001b[0m \u001b[0mapplymap\u001b[0m\u001b[0;34m(\u001b[0m\u001b[0mself\u001b[0m\u001b[0;34m,\u001b[0m \u001b[0mfunc\u001b[0m\u001b[0;34m)\u001b[0m \u001b[0;34m->\u001b[0m \u001b[0;34m\"DataFrame\"\u001b[0m\u001b[0;34m:\u001b[0m\u001b[0;34m\u001b[0m\u001b[0;34m\u001b[0m\u001b[0m\n",
      "\u001b[0;32m~/opt/anaconda3/lib/python3.8/site-packages/pandas/core/apply.py\u001b[0m in \u001b[0;36mget_result\u001b[0;34m(self)\u001b[0m\n\u001b[1;32m    184\u001b[0m             \u001b[0;32mreturn\u001b[0m \u001b[0mself\u001b[0m\u001b[0;34m.\u001b[0m\u001b[0mapply_raw\u001b[0m\u001b[0;34m(\u001b[0m\u001b[0;34m)\u001b[0m\u001b[0;34m\u001b[0m\u001b[0;34m\u001b[0m\u001b[0m\n\u001b[1;32m    185\u001b[0m \u001b[0;34m\u001b[0m\u001b[0m\n\u001b[0;32m--> 186\u001b[0;31m         \u001b[0;32mreturn\u001b[0m \u001b[0mself\u001b[0m\u001b[0;34m.\u001b[0m\u001b[0mapply_standard\u001b[0m\u001b[0;34m(\u001b[0m\u001b[0;34m)\u001b[0m\u001b[0;34m\u001b[0m\u001b[0;34m\u001b[0m\u001b[0m\n\u001b[0m\u001b[1;32m    187\u001b[0m \u001b[0;34m\u001b[0m\u001b[0m\n\u001b[1;32m    188\u001b[0m     \u001b[0;32mdef\u001b[0m \u001b[0mapply_empty_result\u001b[0m\u001b[0;34m(\u001b[0m\u001b[0mself\u001b[0m\u001b[0;34m)\u001b[0m\u001b[0;34m:\u001b[0m\u001b[0;34m\u001b[0m\u001b[0;34m\u001b[0m\u001b[0m\n",
      "\u001b[0;32m~/opt/anaconda3/lib/python3.8/site-packages/pandas/core/apply.py\u001b[0m in \u001b[0;36mapply_standard\u001b[0;34m(self)\u001b[0m\n\u001b[1;32m    311\u001b[0m \u001b[0;34m\u001b[0m\u001b[0m\n\u001b[1;32m    312\u001b[0m         \u001b[0;31m# compute the result using the series generator\u001b[0m\u001b[0;34m\u001b[0m\u001b[0;34m\u001b[0m\u001b[0;34m\u001b[0m\u001b[0m\n\u001b[0;32m--> 313\u001b[0;31m         \u001b[0mresults\u001b[0m\u001b[0;34m,\u001b[0m \u001b[0mres_index\u001b[0m \u001b[0;34m=\u001b[0m \u001b[0mself\u001b[0m\u001b[0;34m.\u001b[0m\u001b[0mapply_series_generator\u001b[0m\u001b[0;34m(\u001b[0m\u001b[0;34m)\u001b[0m\u001b[0;34m\u001b[0m\u001b[0;34m\u001b[0m\u001b[0m\n\u001b[0m\u001b[1;32m    314\u001b[0m \u001b[0;34m\u001b[0m\u001b[0m\n\u001b[1;32m    315\u001b[0m         \u001b[0;31m# wrap results\u001b[0m\u001b[0;34m\u001b[0m\u001b[0;34m\u001b[0m\u001b[0;34m\u001b[0m\u001b[0m\n",
      "\u001b[0;32m~/opt/anaconda3/lib/python3.8/site-packages/pandas/core/apply.py\u001b[0m in \u001b[0;36mapply_series_generator\u001b[0;34m(self)\u001b[0m\n\u001b[1;32m    339\u001b[0m         \u001b[0;32melse\u001b[0m\u001b[0;34m:\u001b[0m\u001b[0;34m\u001b[0m\u001b[0;34m\u001b[0m\u001b[0m\n\u001b[1;32m    340\u001b[0m             \u001b[0;32mfor\u001b[0m \u001b[0mi\u001b[0m\u001b[0;34m,\u001b[0m \u001b[0mv\u001b[0m \u001b[0;32min\u001b[0m \u001b[0menumerate\u001b[0m\u001b[0;34m(\u001b[0m\u001b[0mseries_gen\u001b[0m\u001b[0;34m)\u001b[0m\u001b[0;34m:\u001b[0m\u001b[0;34m\u001b[0m\u001b[0;34m\u001b[0m\u001b[0m\n\u001b[0;32m--> 341\u001b[0;31m                 \u001b[0mresults\u001b[0m\u001b[0;34m[\u001b[0m\u001b[0mi\u001b[0m\u001b[0;34m]\u001b[0m \u001b[0;34m=\u001b[0m \u001b[0mself\u001b[0m\u001b[0;34m.\u001b[0m\u001b[0mf\u001b[0m\u001b[0;34m(\u001b[0m\u001b[0mv\u001b[0m\u001b[0;34m)\u001b[0m\u001b[0;34m\u001b[0m\u001b[0;34m\u001b[0m\u001b[0m\n\u001b[0m\u001b[1;32m    342\u001b[0m                 \u001b[0mkeys\u001b[0m\u001b[0;34m.\u001b[0m\u001b[0mappend\u001b[0m\u001b[0;34m(\u001b[0m\u001b[0mv\u001b[0m\u001b[0;34m.\u001b[0m\u001b[0mname\u001b[0m\u001b[0;34m)\u001b[0m\u001b[0;34m\u001b[0m\u001b[0;34m\u001b[0m\u001b[0m\n\u001b[1;32m    343\u001b[0m \u001b[0;34m\u001b[0m\u001b[0m\n",
      "\u001b[0;32m<ipython-input-8-81284858e5d5>\u001b[0m in \u001b[0;36m<lambda>\u001b[0;34m(row)\u001b[0m\n\u001b[1;32m      4\u001b[0m \u001b[0;31m# dataset = dataset[dataset[\"time\"] != 0]\u001b[0m\u001b[0;34m\u001b[0m\u001b[0;34m\u001b[0m\u001b[0;34m\u001b[0m\u001b[0m\n\u001b[1;32m      5\u001b[0m \u001b[0;34m\u001b[0m\u001b[0m\n\u001b[0;32m----> 6\u001b[0;31m \u001b[0mdataset\u001b[0m\u001b[0;34m[\u001b[0m\u001b[0;34m'Average Speed (MPH)'\u001b[0m\u001b[0;34m]\u001b[0m \u001b[0;34m=\u001b[0m \u001b[0mdataset\u001b[0m\u001b[0;34m.\u001b[0m\u001b[0mapply\u001b[0m\u001b[0;34m(\u001b[0m\u001b[0;32mlambda\u001b[0m \u001b[0mrow\u001b[0m \u001b[0;34m:\u001b[0m \u001b[0mrow\u001b[0m\u001b[0;34m.\u001b[0m\u001b[0mTrip_distance\u001b[0m \u001b[0;34m/\u001b[0m \u001b[0;34m(\u001b[0m\u001b[0mtime_difference\u001b[0m\u001b[0;34m(\u001b[0m\u001b[0mrow\u001b[0m\u001b[0;34m.\u001b[0m\u001b[0mlpep_pickup_datetime\u001b[0m\u001b[0;34m,\u001b[0m \u001b[0mrow\u001b[0m\u001b[0;34m.\u001b[0m\u001b[0mLpep_dropoff_datetime\u001b[0m\u001b[0;34m)\u001b[0m \u001b[0;34m/\u001b[0m \u001b[0;36m60.0\u001b[0m\u001b[0;34m)\u001b[0m\u001b[0;34m,\u001b[0m \u001b[0maxis\u001b[0m \u001b[0;34m=\u001b[0m \u001b[0;36m1\u001b[0m\u001b[0;34m)\u001b[0m\u001b[0;34m\u001b[0m\u001b[0;34m\u001b[0m\u001b[0m\n\u001b[0m\u001b[1;32m      7\u001b[0m \u001b[0mdataset\u001b[0m\u001b[0;34m\u001b[0m\u001b[0;34m\u001b[0m\u001b[0m\n",
      "\u001b[0;31mZeroDivisionError\u001b[0m: float division by zero"
     ]
    }
   ],
   "source": [
    "# dataset[\"time\"]=dataset.Lpep_dropoff_datetime-dataset.lpep_pickup_datetime\n",
    "# dataset[\"time\"] = dataset[\"time\"].apply(lambda x: x.days*24*60*60+x.seconds)  \n",
    "\n",
    "# dataset = dataset[dataset[\"time\"] != 0]\n",
    "\n",
    "dataset['Average Speed (MPH)'] = dataset.apply(lambda row : row.Trip_distance / (time_difference(row.lpep_pickup_datetime, row.Lpep_dropoff_datetime) / 60.0), axis = 1)\n",
    "dataset\n"
   ]
  },
  {
   "cell_type": "code",
   "execution_count": null,
   "metadata": {
    "id": "kIcSG42V22m6"
   },
   "outputs": [],
   "source": [
    "# passenger1_dataset = dataset[dataset.Passenger_count == 1].reset_index(drop=True)\n",
    "# passenger2_dataset = dataset[dataset.Passenger_count == 2].reset_index(drop=True)"
   ]
  },
  {
   "cell_type": "code",
   "execution_count": null,
   "metadata": {
    "id": "IoSmAvIE4c0h"
   },
   "outputs": [],
   "source": [
    "# passenger1_dataset"
   ]
  },
  {
   "cell_type": "code",
   "execution_count": null,
   "metadata": {
    "id": "tvjPfZHK4c-w"
   },
   "outputs": [],
   "source": [
    "# passenger2_dataset"
   ]
  },
  {
   "cell_type": "code",
   "execution_count": null,
   "metadata": {
    "colab": {
     "base_uri": "https://localhost:8080/",
     "height": 462
    },
    "id": "bssWHLJPf-o6",
    "outputId": "e6f1ec07-bbde-4ced-a0e8-64defd39e89e"
   },
   "outputs": [],
   "source": [
    "# dataset1 = dataset[(dataset.lpep_pickup_datetime >= datetime(2015, 1, 1, 0,0,0)) & (dataset.lpep_pickup_datetime <= datetime(2015, 1, 30, 0,5,0))]\n",
    "# dataset1.reset_index(drop=True)"
   ]
  },
  {
   "cell_type": "code",
   "execution_count": null,
   "metadata": {
    "id": "kIYFo0C01ryP"
   },
   "outputs": [],
   "source": [
    "def distanceSaving(d1, d2, D):\n",
    "    return d1 + d2 - D"
   ]
  },
  {
   "cell_type": "code",
   "execution_count": null,
   "metadata": {
    "colab": {
     "base_uri": "https://localhost:8080/"
    },
    "id": "r2aatXWmdAj3",
    "outputId": "702f26a4-37f2-4ae0-c7fd-10d0b3911a75"
   },
   "outputs": [],
   "source": [
    "def o1o2d1d2(trip1, trip2, delay):\n",
    "    o1o2 = distance(trip1['Pickup_latitude'], trip1['Pickup_longitude'], trip2['Pickup_latitude'], trip2['Pickup_longitude'])\n",
    "    o2d1 = distance(trip2['Pickup_latitude'], trip2['Pickup_longitude'], trip1['Dropoff_latitude'], trip1['Dropoff_longitude'])\n",
    "    d1d2 = distance(trip1['Dropoff_latitude'], trip1['Dropoff_longitude'], trip2['Dropoff_latitude'], trip2['Dropoff_longitude'])\n",
    "\n",
    "    o2o1 = distance(trip2['Pickup_latitude'], trip2['Pickup_longitude'], trip1['Pickup_latitude'], trip1['Pickup_longitude'])\n",
    "    o2d2 = distance(trip2['Pickup_latitude'], trip2['Pickup_longitude'], trip2['Dropoff_latitude'], trip2['Dropoff_longitude'])\n",
    "    d2d1 = distance(trip2['Dropoff_latitude'], trip2['Dropoff_longitude'] ,trip1['Dropoff_latitude'], trip1['Dropoff_longitude'])\n",
    "\n",
    "\n",
    "    o1d1 = distance(trip1['Pickup_latitude'], trip1['Pickup_longitude'], trip1['Dropoff_latitude'], trip1['Dropoff_longitude'])\n",
    "    o1d2 = distance(trip1['Pickup_latitude'], trip1['Pickup_longitude'], trip2['Dropoff_latitude'], trip2['Dropoff_longitude'])\n",
    "    \n",
    "    dist_array = [o2d1, o2d2, o1d1, o1d2]\n",
    "\n",
    "    #print(\"o1o2d: \",o1o2+o2d1+d1d2)\n",
    "    #print(\"Trip distance: \",trip1['Trip_distance'] + trip2['Trip_distance'])\n",
    "    #print(time_difference(trip1['Lpep_dropoff_datetime'], trip2['Lpep_dropoff_datetime']))\n",
    "    trip_distance = trip1['Trip_distance'] + trip2['Trip_distance']\n",
    "\n",
    "    if (o1o2 + o2d1 + d1d2 < trip_distance):\n",
    "        if ( (time_difference(trip1['Lpep_dropoff_datetime'], trip2['Lpep_dropoff_datetime']) < delay) ):\n",
    "            saving = distanceSaving(trip1['Trip_distance'], trip2['Trip_distance'], (o1o2 + o2d1 + d1d2 ))\n",
    "            return True, saving\n",
    "    else:\n",
    "        return False\n",
    "\n",
    "    if (o1o2 + o2d2 + d2d1 < trip_distance):\n",
    "        if ( (time_difference(trip1['Lpep_dropoff_datetime'], trip2['Lpep_dropoff_datetime']) < delay) ):\n",
    "            saving = distanceSaving(trip1['Trip_distance'], trip2['Trip_distance'], (o1o2 + o2d2 + d2d1 ))\n",
    "            return True\n",
    "    else:\n",
    "            return False\n",
    "\n",
    "    if (o2o1 + o1d1 + d1d2 < trip_distance):\n",
    "        if ( (time_difference(trip1['Lpep_dropoff_datetime'], trip2['Lpep_dropoff_datetime']) < delay) ):\n",
    "            saving = distanceSaving(trip1['Trip_distance'], trip2['Trip_distance'], (o2o1 + o1d1 + d1d2 ))\n",
    "            return True\n",
    "    else:\n",
    "        return False\n",
    "\n",
    "    if (o2o1 + o1d2 + d2d1 < trip_distance):\n",
    "        if ( (time_difference(trip1['Lpep_dropoff_datetime'], trip2['Lpep_dropoff_datetime']) < delay) ):\n",
    "            saving = distanceSaving(trip1['Trip_distance'], trip2['Trip_distance'], (o2o1 + o1d2 + d2d1 ))\n",
    "            return True\n",
    "    else:\n",
    "        return False\n",
    "\n",
    "  \n",
    "\n",
    "      \n",
    "# o1o2d1d2(dataset1.iloc[7], dataset1.iloc[0], 5)[1]\n"
   ]
  },
  {
   "cell_type": "code",
   "execution_count": null,
   "metadata": {
    "id": "VwTZjj9nZg5A"
   },
   "outputs": [],
   "source": [
    "# #BACKUP\n",
    "# def shared_trips_eval(dataset, delay):\n",
    "    \n",
    "#     start = time.time()\n",
    "#     rides = []\n",
    "#     mergeable = []\n",
    "#     for index1 in range(len(dataset)):\n",
    "#         print(index1)\n",
    "#         index2 = index1 + 1\n",
    "#         while (index2 < len(dataset)):\n",
    "#           if (dataset.iloc[index1][8] + dataset.iloc[index2][8] <= 3):\n",
    "\n",
    "#             if (o1o2d1d2(dataset.iloc[index1], dataset.iloc[index2], delay)):\n",
    "#               rides.append((dataset.iloc[index1][0], dataset.iloc[index2][0], o1o2d1d2(dataset.iloc[index1], dataset.iloc[index2], delay)[1]))\n",
    "#           index2 = index2+ 1\n",
    "    \n",
    "#     #for i in range(len(rides)):\n",
    "#      # i2 = i + 1\n",
    "#       #while (i2 < len(rides)):\n",
    "#        # if rides[i][0] == rides[i2][0]:\n",
    "#           #if rides[i][2] > rides[i2][2]:\n",
    "#             #del rides[i2]\n",
    "#         #i2 = i2 + 1\n",
    "\n",
    "#     time.sleep(1)\n",
    "#     end = time.time()\n",
    "#     print(f\"Runtime of the program is {end - start}\")\n",
    "    \n",
    "#     return rides\n",
    "#     #"
   ]
  },
  {
   "cell_type": "code",
   "execution_count": null,
   "metadata": {
    "id": "0tw8xn0TaWL2"
   },
   "outputs": [],
   "source": [
    "# dataset1"
   ]
  },
  {
   "cell_type": "code",
   "execution_count": null,
   "metadata": {
    "id": "a8lNj3vCrIQe"
   },
   "outputs": [],
   "source": [
    "def shared_trips_eval(dataset, delay):\n",
    "    \n",
    "    start = time.time()\n",
    "    rides = []\n",
    "    mergeable = []\n",
    "    for index1 in range(len(dataset)):\n",
    "        if (index1 % 200 == 0): print(index1)\n",
    "        index2 = index1 + 1\n",
    "        while (index2 < len(dataset)):\n",
    "            if (dataset.iloc[index1][8] + dataset.iloc[index2][8] <= 3):\n",
    "                if (o1o2d1d2(dataset.iloc[index1], dataset.iloc[index2], delay)):\n",
    "                    rides.append((dataset.iloc[index1][0], dataset.iloc[index2][0], o1o2d1d2(dataset.iloc[index1], dataset.iloc[index2], delay)[1]))\n",
    "            index2 = index2+ 1\n",
    "    \n",
    "    #for i in range(len(rides)):\n",
    "     # i2 = i + 1\n",
    "      #while (i2 < len(rides)):\n",
    "       # if rides[i][0] == rides[i2][0]:\n",
    "          #if rides[i][2] > rides[i2][2]:\n",
    "            #del rides[i2]\n",
    "        #i2 = i2 + 1\n",
    "\n",
    "    time.sleep(1)\n",
    "    end = time.time()\n",
    "    print(f\"Runtime of the program is {end - start}\")\n",
    "    \n",
    "    return rides\n",
    "    #\n",
    "  "
   ]
  },
  {
   "cell_type": "code",
   "execution_count": null,
   "metadata": {
    "id": "TDK8nu1_qMr0"
   },
   "outputs": [],
   "source": [
    "# dataset1.apply(o1o2d1d2(dataset.iloc[index1], dataset.iloc[index2], delay))"
   ]
  },
  {
   "cell_type": "code",
   "execution_count": null,
   "metadata": {
    "id": "kIVNwY4DtAWW"
   },
   "outputs": [],
   "source": [
    "start = time.time()\n",
    "#for indices in dataset1.itertuples():\n",
    "for indices in range(len(dataset1)):\n",
    "    print(indices)\n",
    "\n",
    "\n",
    "time.sleep(1)\n",
    "end = time.time()\n",
    "print(f\"Runtime of the program is {end - start}\")\n",
    "  #vals = dataset1.iloc[indices][0]\n",
    "  #print(vals)"
   ]
  },
  {
   "cell_type": "code",
   "execution_count": null,
   "metadata": {
    "id": "t1xGgYsp161H"
   },
   "outputs": [],
   "source": [
    "itertuple - 92 sec"
   ]
  },
  {
   "cell_type": "code",
   "execution_count": null,
   "metadata": {
    "colab": {
     "base_uri": "https://localhost:8080/"
    },
    "id": "ZENba8nqrJ9T",
    "outputId": "13669ecb-0a52-458c-d4ba-cd1a4ac68b66"
   },
   "outputs": [],
   "source": [
    "d = shared_trips_eval(dataset.head(800), 10)"
   ]
  },
  {
   "cell_type": "code",
   "execution_count": null,
   "metadata": {
    "id": "6fiDkFDE_ekA"
   },
   "outputs": [],
   "source": [
    "def removeDuplicates(lst): \n",
    "      \n",
    "    return [t for t in (set(tuple(i) for i in lst))]"
   ]
  },
  {
   "cell_type": "code",
   "execution_count": null,
   "metadata": {
    "id": "0Y9dg4C8EIMJ"
   },
   "outputs": [],
   "source": [
    "def removeDuplicates2(lst): \n",
    "      \n",
    "    return list(filter(lambda x: x[2] < 2.0, lst)) "
   ]
  },
  {
   "cell_type": "code",
   "execution_count": null,
   "metadata": {
    "id": "svbQhNS4_G7K"
   },
   "outputs": [],
   "source": [
    "cleaned = (removeDuplicates(d))\n",
    "cleaned1 = removeDuplicates2(cleaned)"
   ]
  },
  {
   "cell_type": "code",
   "execution_count": null,
   "metadata": {
    "colab": {
     "base_uri": "https://localhost:8080/"
    },
    "id": "lkZdQS4yEoUh",
    "outputId": "42af2396-d382-4627-b27c-c2164928be3f"
   },
   "outputs": [],
   "source": [
    "total_distance_saved = 0\n",
    "for i in range(len(cleaned1)):\n",
    "  #print(cleaned1[i])\n",
    "  total_distance_saved += (cleaned1[i][2])\n",
    "\n",
    "print(\"miles saved:\",total_distance_saved)"
   ]
  },
  {
   "cell_type": "code",
   "execution_count": null,
   "metadata": {
    "id": "YMeUxcdS0UPV"
   },
   "outputs": [],
   "source": [
    "100, delay = 5 -   miles saved: 224.84781944559455\n",
    "100, delay = 10 -  miles saved: 376.0938153061874\n",
    "\n",
    "1000, delay = 5 -  miles saved: 8793.487880496306\n",
    "1000, delay = 10 - miles saved: 13238.493834166708\n",
    "\n",
    "\n",
    "\n",
    "\n",
    "\n",
    "(1343, 1202, 3.211690362110497)\n",
    "(1343, 813, 2.4622335581418238)\n",
    "(1343, 1337, 1.2461636790785668)\n",
    "(989, 1066, 0.8080665303622645)\n",
    "(1150, 810, 0.5448660685648945)\n",
    "(1150, 1032, 0.17819001369600063)\n",
    "(1410, 1260, 8.16336848918447)\n",
    "(1410, 1196, 4.316777342615181)\n",
    "(810, 1032, 0.2712198130478032)\n",
    "(1202, 813, 3.4616681270150114)\n",
    "(1202, 962, 1.31973741208414)\n",
    "(1202, 1337, 1.955356073312343)\n",
    "(813, 962, 0.6418901098188012)\n",
    "(813, 1337, 3.5848454750830037)\n",
    "(1260, 1196, 5.80369649549537)\n",
    "(1067, 993, 0.29607020587376454)\n",
    "(1168, 1337, 1.740569119499722)\n",
    "(1697, 1361, 1.6260302145609558)\n",
    "(1146, 969, 0.19199120374088285)"
   ]
  }
 ],
 "metadata": {
  "colab": {
   "name": "480Pt.ipynb",
   "provenance": []
  },
  "kernelspec": {
   "display_name": "Python 3",
   "language": "python",
   "name": "python3"
  },
  "language_info": {
   "codemirror_mode": {
    "name": "ipython",
    "version": 3
   },
   "file_extension": ".py",
   "mimetype": "text/x-python",
   "name": "python",
   "nbconvert_exporter": "python",
   "pygments_lexer": "ipython3",
   "version": "3.8.3"
  }
 },
 "nbformat": 4,
 "nbformat_minor": 1
}
