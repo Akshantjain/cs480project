{
 "cells": [
  {
   "cell_type": "markdown",
   "metadata": {
    "id": "N3sU8ogfs49t"
   },
   "source": [
    "# CS480: Database Systems, Group Project\n",
    "### Green Taxi Datasets"
   ]
  },
  {
   "cell_type": "code",
   "execution_count": 1,
   "metadata": {
    "id": "JTQY6FTCs49t"
   },
   "outputs": [],
   "source": [
    "#import matplotlib.pyplot as plt\n",
    "import pandas as pd\n",
    "import numpy as np\n",
    "from sklearn import preprocessing\n",
    "from sklearn.model_selection import train_test_split\n",
    "from datetime import datetime, timedelta\n",
    "import sqlite3\n",
    "from hopcroftkarp import HopcroftKarp\n",
    "import time\n",
    "from itertools import chain\n",
    "from functools import reduce"
   ]
  },
  {
   "cell_type": "markdown",
   "metadata": {
    "id": "Q69VAOVhs49t"
   },
   "source": [
    "#### 1. First, we will import the data in the system"
   ]
  },
  {
   "cell_type": "code",
   "execution_count": 2,
   "metadata": {
    "id": "kcPHfSCHs49t"
   },
   "outputs": [],
   "source": [
    "green = pd.read_csv('green_tripdata_2015_6months_cleaned.csv')"
   ]
  },
  {
   "cell_type": "markdown",
   "metadata": {
    "id": "nFrGFj__s49t"
   },
   "source": [
    "#### 2. Now, we will get the summary of the datasets and then we will clean up the dataset"
   ]
  },
  {
   "cell_type": "code",
   "execution_count": null,
   "metadata": {
    "id": "gkIHZO8ds49t"
   },
   "outputs": [],
   "source": [
    "green.describe()\n",
    "# print(green.dtypes)"
   ]
  },
  {
   "cell_type": "code",
   "execution_count": 4,
   "metadata": {
    "id": "TvncU07As49u"
   },
   "outputs": [
    {
     "name": "stdout",
     "output_type": "stream",
     "text": [
      "N̲u̲m̲b̲e̲r̲ ̲o̲f̲ ̲N̲u̲l̲l̲ ̲d̲a̲t̲a̲ ̲v̲a̲l̲u̲e̲s̲ ̲i̲n̲ ̲e̲a̲c̲h̲ ̲c̲o̲l̲u̲m̲n̲s̲:\n",
      "trip_id                  0\n",
      "VendorID                 0\n",
      "lpep_pickup_datetime     0\n",
      "Lpep_dropoff_datetime    0\n",
      "Pickup_longitude         0\n",
      "Pickup_latitude          0\n",
      "Dropoff_longitude        0\n",
      "Dropoff_latitude         0\n",
      "Passenger_count          0\n",
      "Trip_distance            0\n",
      "dtype: int64\n",
      "\n",
      "N̲u̲m̲b̲e̲r̲ ̲o̲f̲ ̲D̲a̲t̲a̲s̲e̲t̲s̲: 5664142\n"
     ]
    }
   ],
   "source": [
    "# Getting the values which needs to be cleaned up before procedding further\n",
    "print(\"\\u0332\".join('Number of Null data values in each columns:'))\n",
    "print(green.isnull().sum())\n",
    "print('')\n",
    "print(\"\\u0332\".join('Number of Datasets:'), len(green.index))"
   ]
  },
  {
   "cell_type": "markdown",
   "metadata": {
    "id": "KnYlecTLs49u"
   },
   "source": [
    "#### 3. Now, filter out the data and clean it up again and to get the data we need use for our algorithms"
   ]
  },
  {
   "cell_type": "code",
   "execution_count": 4,
   "metadata": {
    "id": "KeI94stJs49u"
   },
   "outputs": [
    {
     "name": "stdout",
     "output_type": "stream",
     "text": [
      "C̲o̲l̲u̲m̲n̲ ̲N̲a̲m̲e̲s̲: Index(['VendorID', 'lpep_pickup_datetime', 'Lpep_dropoff_datetime',\n",
      "       'Pickup_longitude', 'Pickup_latitude', 'Dropoff_longitude',\n",
      "       'Dropoff_latitude', 'Passenger_count', 'Trip_distance'],\n",
      "      dtype='object')\n",
      "D̲a̲t̲a̲s̲e̲t̲: 5664142\n",
      "F̲i̲l̲t̲e̲r̲e̲d̲ ̲D̲a̲t̲a̲s̲e̲t̲: 5638470\n"
     ]
    }
   ],
   "source": [
    "dataset = green[['VendorID', 'lpep_pickup_datetime', 'Lpep_dropoff_datetime', 'Pickup_longitude', 'Pickup_latitude', 'Dropoff_longitude', 'Dropoff_latitude', 'Passenger_count', 'Trip_distance']]\n",
    "\n",
    "# Here we are storing all the column names in a array named 'columns'\n",
    "columns = dataset.columns\n",
    "print(\"\\u0332\".join('Column Names:'), columns)\n",
    "\n",
    "print(\"\\u0332\".join('Dataset:'), len(dataset.index))\n",
    "dataset = dataset[ (dataset.lpep_pickup_datetime != dataset.Lpep_dropoff_datetime) & (dataset.Trip_distance != 0) & (dataset.Passenger_count < 3) & (dataset['Trip_distance'] != dataset['Trip_distance'].max())]\n",
    "\n",
    "print(\"\\u0332\".join('Filtered Dataset:'), len(dataset.index))"
   ]
  },
  {
   "cell_type": "code",
   "execution_count": 6,
   "metadata": {
    "colab": {
     "base_uri": "https://localhost:8080/"
    },
    "id": "4tJtrjWfs49u",
    "outputId": "4bbb0877-ede0-40bd-9b38-234501d1bfd6"
   },
   "outputs": [
    {
     "name": "stdout",
     "output_type": "stream",
     "text": [
      "T̲o̲t̲a̲l̲ ̲D̲i̲s̲t̲a̲n̲c̲e̲ ̲T̲r̲a̲v̲e̲l̲l̲e̲d̲: 16332776.31000001\n"
     ]
    }
   ],
   "source": [
    "print(\"\\u0332\".join('Total Distance Travelled:'), dataset['Trip_distance'].sum())"
   ]
  },
  {
   "cell_type": "code",
   "execution_count": 10,
   "metadata": {
    "id": "My95kdzWs49v"
   },
   "outputs": [
    {
     "data": {
      "text/html": [
       "<div>\n",
       "<style scoped>\n",
       "    .dataframe tbody tr th:only-of-type {\n",
       "        vertical-align: middle;\n",
       "    }\n",
       "\n",
       "    .dataframe tbody tr th {\n",
       "        vertical-align: top;\n",
       "    }\n",
       "\n",
       "    .dataframe thead th {\n",
       "        text-align: right;\n",
       "    }\n",
       "</style>\n",
       "<table border=\"1\" class=\"dataframe\">\n",
       "  <thead>\n",
       "    <tr style=\"text-align: right;\">\n",
       "      <th></th>\n",
       "      <th>VendorID</th>\n",
       "      <th>lpep_pickup_datetime</th>\n",
       "      <th>Lpep_dropoff_datetime</th>\n",
       "      <th>Pickup_longitude</th>\n",
       "      <th>Pickup_latitude</th>\n",
       "      <th>Dropoff_longitude</th>\n",
       "      <th>Dropoff_latitude</th>\n",
       "      <th>Passenger_count</th>\n",
       "      <th>Trip_distance</th>\n",
       "    </tr>\n",
       "  </thead>\n",
       "  <tbody>\n",
       "    <tr>\n",
       "      <th>862</th>\n",
       "      <td>2</td>\n",
       "      <td>2015-01-01</td>\n",
       "      <td>2015-01-01 00:03:00</td>\n",
       "      <td>-73.918648</td>\n",
       "      <td>40.759354</td>\n",
       "      <td>-73.912155</td>\n",
       "      <td>40.767422</td>\n",
       "      <td>1</td>\n",
       "      <td>0.60</td>\n",
       "    </tr>\n",
       "    <tr>\n",
       "      <th>924</th>\n",
       "      <td>2</td>\n",
       "      <td>2015-01-01</td>\n",
       "      <td>2015-01-01 00:03:00</td>\n",
       "      <td>-73.892464</td>\n",
       "      <td>40.746998</td>\n",
       "      <td>-73.911209</td>\n",
       "      <td>40.744617</td>\n",
       "      <td>1</td>\n",
       "      <td>0.99</td>\n",
       "    </tr>\n",
       "    <tr>\n",
       "      <th>725</th>\n",
       "      <td>2</td>\n",
       "      <td>2015-01-01</td>\n",
       "      <td>2015-01-01 00:04:00</td>\n",
       "      <td>-73.891365</td>\n",
       "      <td>40.746635</td>\n",
       "      <td>-73.896118</td>\n",
       "      <td>40.738361</td>\n",
       "      <td>1</td>\n",
       "      <td>0.87</td>\n",
       "    </tr>\n",
       "    <tr>\n",
       "      <th>1923</th>\n",
       "      <td>1</td>\n",
       "      <td>2015-01-01</td>\n",
       "      <td>2015-01-01 00:04:00</td>\n",
       "      <td>-73.807426</td>\n",
       "      <td>40.700104</td>\n",
       "      <td>-73.806000</td>\n",
       "      <td>40.693253</td>\n",
       "      <td>1</td>\n",
       "      <td>0.60</td>\n",
       "    </tr>\n",
       "    <tr>\n",
       "      <th>1573</th>\n",
       "      <td>1</td>\n",
       "      <td>2015-01-01</td>\n",
       "      <td>2015-01-01 00:05:00</td>\n",
       "      <td>-73.918846</td>\n",
       "      <td>40.743019</td>\n",
       "      <td>-73.901253</td>\n",
       "      <td>40.745758</td>\n",
       "      <td>1</td>\n",
       "      <td>1.00</td>\n",
       "    </tr>\n",
       "  </tbody>\n",
       "</table>\n",
       "</div>"
      ],
      "text/plain": [
       "      VendorID lpep_pickup_datetime Lpep_dropoff_datetime  Pickup_longitude  \\\n",
       "862          2           2015-01-01   2015-01-01 00:03:00        -73.918648   \n",
       "924          2           2015-01-01   2015-01-01 00:03:00        -73.892464   \n",
       "725          2           2015-01-01   2015-01-01 00:04:00        -73.891365   \n",
       "1923         1           2015-01-01   2015-01-01 00:04:00        -73.807426   \n",
       "1573         1           2015-01-01   2015-01-01 00:05:00        -73.918846   \n",
       "\n",
       "      Pickup_latitude  Dropoff_longitude  Dropoff_latitude  Passenger_count  \\\n",
       "862         40.759354         -73.912155         40.767422                1   \n",
       "924         40.746998         -73.911209         40.744617                1   \n",
       "725         40.746635         -73.896118         40.738361                1   \n",
       "1923        40.700104         -73.806000         40.693253                1   \n",
       "1573        40.743019         -73.901253         40.745758                1   \n",
       "\n",
       "      Trip_distance  \n",
       "862            0.60  \n",
       "924            0.99  \n",
       "725            0.87  \n",
       "1923           0.60  \n",
       "1573           1.00  "
      ]
     },
     "execution_count": 10,
     "metadata": {},
     "output_type": "execute_result"
    }
   ],
   "source": [
    "# Correcting the date and time format\n",
    "dataset['lpep_pickup_datetime'] = pd.to_datetime(dataset['lpep_pickup_datetime'])\n",
    "dataset['Lpep_dropoff_datetime'] = pd.to_datetime(dataset['Lpep_dropoff_datetime'])\n",
    "dataset.head()"
   ]
  },
  {
   "cell_type": "markdown",
   "metadata": {
    "id": "NXr8yPWGs49v"
   },
   "source": [
    "#### 4. Defining distance and time difference functions"
   ]
  },
  {
   "cell_type": "code",
   "execution_count": null,
   "metadata": {},
   "outputs": [],
   "source": []
  },
  {
   "cell_type": "code",
   "execution_count": 8,
   "metadata": {
    "id": "Ji9MBdXKs49v"
   },
   "outputs": [
    {
     "name": "stdout",
     "output_type": "stream",
     "text": [
      "Index(['VendorID', 'lpep_pickup_datetime', 'Lpep_dropoff_datetime',\n",
      "       'Pickup_longitude', 'Pickup_latitude', 'Dropoff_longitude',\n",
      "       'Dropoff_latitude', 'Passenger_count', 'Trip_distance'],\n",
      "      dtype='object')\n"
     ]
    }
   ],
   "source": [
    "from math import radians, cos, sin, asin, sqrt \n",
    "def distance(lat1, lon1, lat2, lon2): \n",
    "    \n",
    "#     start = time.time()\n",
    "    \n",
    "    # The math module contains a function named \n",
    "    # radians which converts from degrees to radians. \n",
    "    lon1 = radians(lon1) \n",
    "    lon2 = radians(lon2) \n",
    "    lat1 = radians(lat1) \n",
    "    lat2 = radians(lat2) \n",
    "       \n",
    "    # Haversine formula  \n",
    "    dlon = lon2 - lon1  \n",
    "    dlat = lat2 - lat1 \n",
    "\n",
    "    c = (3956 * 2 * asin(sqrt(sin(dlat / 2)**2 + cos(lat1) * cos(lat2) * sin(dlon / 2)**2)))\n",
    "\n",
    "#     end = time.time()\n",
    "#     print(end-start)\n",
    "    \n",
    "    return c\n",
    "     \n",
    "    # Radius of earth in kilometers. Use 3956 for miles \n",
    "    # calculate the result \n",
    "    # (c * r) \n",
    "\n",
    "def time_difference(time1, time2):\n",
    "    time_diff = (time2 - time1)\n",
    "    time_seconds = abs(time_diff.total_seconds())\n",
    "    \n",
    "    return time_seconds / 60.0\n",
    "\n",
    "print(columns)"
   ]
  },
  {
   "cell_type": "code",
   "execution_count": 6,
   "metadata": {
    "id": "Jtz7stE_s49v"
   },
   "outputs": [
    {
     "name": "stdout",
     "output_type": "stream",
     "text": [
      "Time Taken to process:  2.17171049118042\n"
     ]
    }
   ],
   "source": [
    "dataset = dataset.sort_values(by=['lpep_pickup_datetime', 'Lpep_dropoff_datetime'])"
   ]
  },
  {
   "cell_type": "markdown",
   "metadata": {},
   "source": [
    "#### 5.Getting Average Speed for each trip"
   ]
  },
  {
   "cell_type": "code",
   "execution_count": 11,
   "metadata": {
    "id": "hB2jw_Uks49v"
   },
   "outputs": [
    {
     "name": "stdout",
     "output_type": "stream",
     "text": [
      "Time Taken to process:  176.72743797302246\n"
     ]
    }
   ],
   "source": [
    "dataset['Average Speed (MPH)'] = dataset.apply(lambda row : row.Trip_distance / (time_difference(row.lpep_pickup_datetime, row.Lpep_dropoff_datetime) / 60.0), axis = 1)"
   ]
  },
  {
   "cell_type": "code",
   "execution_count": 11,
   "metadata": {
    "id": "44AtuaDys49v"
   },
   "outputs": [],
   "source": [
    "dataset = dataset.reset_index(drop=True)"
   ]
  },
  {
   "cell_type": "code",
   "execution_count": 12,
   "metadata": {
    "id": "mK0YYIwos49v"
   },
   "outputs": [
    {
     "data": {
      "text/html": [
       "<div>\n",
       "<style scoped>\n",
       "    .dataframe tbody tr th:only-of-type {\n",
       "        vertical-align: middle;\n",
       "    }\n",
       "\n",
       "    .dataframe tbody tr th {\n",
       "        vertical-align: top;\n",
       "    }\n",
       "\n",
       "    .dataframe thead th {\n",
       "        text-align: right;\n",
       "    }\n",
       "</style>\n",
       "<table border=\"1\" class=\"dataframe\">\n",
       "  <thead>\n",
       "    <tr style=\"text-align: right;\">\n",
       "      <th></th>\n",
       "      <th>VendorID</th>\n",
       "      <th>lpep_pickup_datetime</th>\n",
       "      <th>Lpep_dropoff_datetime</th>\n",
       "      <th>Pickup_longitude</th>\n",
       "      <th>Pickup_latitude</th>\n",
       "      <th>Dropoff_longitude</th>\n",
       "      <th>Dropoff_latitude</th>\n",
       "      <th>Passenger_count</th>\n",
       "      <th>Trip_distance</th>\n",
       "      <th>Average Speed (MPH)</th>\n",
       "    </tr>\n",
       "  </thead>\n",
       "  <tbody>\n",
       "    <tr>\n",
       "      <th>0</th>\n",
       "      <td>2</td>\n",
       "      <td>2015-01-01 00:00:00</td>\n",
       "      <td>2015-01-01 00:03:00</td>\n",
       "      <td>-73.918648</td>\n",
       "      <td>40.759354</td>\n",
       "      <td>-73.912155</td>\n",
       "      <td>40.767422</td>\n",
       "      <td>1</td>\n",
       "      <td>0.60</td>\n",
       "      <td>12.000000</td>\n",
       "    </tr>\n",
       "    <tr>\n",
       "      <th>1</th>\n",
       "      <td>2</td>\n",
       "      <td>2015-01-01 00:00:00</td>\n",
       "      <td>2015-01-01 00:03:00</td>\n",
       "      <td>-73.892464</td>\n",
       "      <td>40.746998</td>\n",
       "      <td>-73.911209</td>\n",
       "      <td>40.744617</td>\n",
       "      <td>1</td>\n",
       "      <td>0.99</td>\n",
       "      <td>19.800000</td>\n",
       "    </tr>\n",
       "    <tr>\n",
       "      <th>2</th>\n",
       "      <td>2</td>\n",
       "      <td>2015-01-01 00:00:00</td>\n",
       "      <td>2015-01-01 00:04:00</td>\n",
       "      <td>-73.891365</td>\n",
       "      <td>40.746635</td>\n",
       "      <td>-73.896118</td>\n",
       "      <td>40.738361</td>\n",
       "      <td>1</td>\n",
       "      <td>0.87</td>\n",
       "      <td>13.050000</td>\n",
       "    </tr>\n",
       "    <tr>\n",
       "      <th>3</th>\n",
       "      <td>1</td>\n",
       "      <td>2015-01-01 00:00:00</td>\n",
       "      <td>2015-01-01 00:04:00</td>\n",
       "      <td>-73.807426</td>\n",
       "      <td>40.700104</td>\n",
       "      <td>-73.806000</td>\n",
       "      <td>40.693253</td>\n",
       "      <td>1</td>\n",
       "      <td>0.60</td>\n",
       "      <td>9.000000</td>\n",
       "    </tr>\n",
       "    <tr>\n",
       "      <th>4</th>\n",
       "      <td>1</td>\n",
       "      <td>2015-01-01 00:00:00</td>\n",
       "      <td>2015-01-01 00:05:00</td>\n",
       "      <td>-73.918846</td>\n",
       "      <td>40.743019</td>\n",
       "      <td>-73.901253</td>\n",
       "      <td>40.745758</td>\n",
       "      <td>1</td>\n",
       "      <td>1.00</td>\n",
       "      <td>12.000000</td>\n",
       "    </tr>\n",
       "    <tr>\n",
       "      <th>...</th>\n",
       "      <td>...</td>\n",
       "      <td>...</td>\n",
       "      <td>...</td>\n",
       "      <td>...</td>\n",
       "      <td>...</td>\n",
       "      <td>...</td>\n",
       "      <td>...</td>\n",
       "      <td>...</td>\n",
       "      <td>...</td>\n",
       "      <td>...</td>\n",
       "    </tr>\n",
       "    <tr>\n",
       "      <th>5638465</th>\n",
       "      <td>2</td>\n",
       "      <td>2015-12-01 23:59:00</td>\n",
       "      <td>2015-01-13 00:14:00</td>\n",
       "      <td>-73.957588</td>\n",
       "      <td>40.671902</td>\n",
       "      <td>-73.955826</td>\n",
       "      <td>40.719593</td>\n",
       "      <td>1</td>\n",
       "      <td>4.00</td>\n",
       "      <td>0.000516</td>\n",
       "    </tr>\n",
       "    <tr>\n",
       "      <th>5638466</th>\n",
       "      <td>2</td>\n",
       "      <td>2015-12-01 23:59:00</td>\n",
       "      <td>2015-01-13 00:14:00</td>\n",
       "      <td>-73.953896</td>\n",
       "      <td>40.663887</td>\n",
       "      <td>-73.916283</td>\n",
       "      <td>40.686119</td>\n",
       "      <td>2</td>\n",
       "      <td>3.33</td>\n",
       "      <td>0.000430</td>\n",
       "    </tr>\n",
       "    <tr>\n",
       "      <th>5638467</th>\n",
       "      <td>2</td>\n",
       "      <td>2015-12-01 23:59:00</td>\n",
       "      <td>2015-01-13 00:15:00</td>\n",
       "      <td>-73.954567</td>\n",
       "      <td>40.718754</td>\n",
       "      <td>-73.978569</td>\n",
       "      <td>40.665421</td>\n",
       "      <td>1</td>\n",
       "      <td>7.25</td>\n",
       "      <td>0.000935</td>\n",
       "    </tr>\n",
       "    <tr>\n",
       "      <th>5638468</th>\n",
       "      <td>1</td>\n",
       "      <td>2015-12-01 23:59:00</td>\n",
       "      <td>2015-01-13 00:24:00</td>\n",
       "      <td>-73.988892</td>\n",
       "      <td>40.692158</td>\n",
       "      <td>-73.988770</td>\n",
       "      <td>40.777615</td>\n",
       "      <td>1</td>\n",
       "      <td>7.20</td>\n",
       "      <td>0.000929</td>\n",
       "    </tr>\n",
       "    <tr>\n",
       "      <th>5638469</th>\n",
       "      <td>2</td>\n",
       "      <td>2015-12-01 23:59:00</td>\n",
       "      <td>2015-01-13 00:26:00</td>\n",
       "      <td>-73.957436</td>\n",
       "      <td>40.672283</td>\n",
       "      <td>-73.992310</td>\n",
       "      <td>40.763912</td>\n",
       "      <td>2</td>\n",
       "      <td>8.02</td>\n",
       "      <td>0.001035</td>\n",
       "    </tr>\n",
       "  </tbody>\n",
       "</table>\n",
       "<p>5638470 rows × 10 columns</p>\n",
       "</div>"
      ],
      "text/plain": [
       "         VendorID lpep_pickup_datetime Lpep_dropoff_datetime  \\\n",
       "0               2  2015-01-01 00:00:00   2015-01-01 00:03:00   \n",
       "1               2  2015-01-01 00:00:00   2015-01-01 00:03:00   \n",
       "2               2  2015-01-01 00:00:00   2015-01-01 00:04:00   \n",
       "3               1  2015-01-01 00:00:00   2015-01-01 00:04:00   \n",
       "4               1  2015-01-01 00:00:00   2015-01-01 00:05:00   \n",
       "...           ...                  ...                   ...   \n",
       "5638465         2  2015-12-01 23:59:00   2015-01-13 00:14:00   \n",
       "5638466         2  2015-12-01 23:59:00   2015-01-13 00:14:00   \n",
       "5638467         2  2015-12-01 23:59:00   2015-01-13 00:15:00   \n",
       "5638468         1  2015-12-01 23:59:00   2015-01-13 00:24:00   \n",
       "5638469         2  2015-12-01 23:59:00   2015-01-13 00:26:00   \n",
       "\n",
       "         Pickup_longitude  Pickup_latitude  Dropoff_longitude  \\\n",
       "0              -73.918648        40.759354         -73.912155   \n",
       "1              -73.892464        40.746998         -73.911209   \n",
       "2              -73.891365        40.746635         -73.896118   \n",
       "3              -73.807426        40.700104         -73.806000   \n",
       "4              -73.918846        40.743019         -73.901253   \n",
       "...                   ...              ...                ...   \n",
       "5638465        -73.957588        40.671902         -73.955826   \n",
       "5638466        -73.953896        40.663887         -73.916283   \n",
       "5638467        -73.954567        40.718754         -73.978569   \n",
       "5638468        -73.988892        40.692158         -73.988770   \n",
       "5638469        -73.957436        40.672283         -73.992310   \n",
       "\n",
       "         Dropoff_latitude  Passenger_count  Trip_distance  Average Speed (MPH)  \n",
       "0               40.767422                1           0.60            12.000000  \n",
       "1               40.744617                1           0.99            19.800000  \n",
       "2               40.738361                1           0.87            13.050000  \n",
       "3               40.693253                1           0.60             9.000000  \n",
       "4               40.745758                1           1.00            12.000000  \n",
       "...                   ...              ...            ...                  ...  \n",
       "5638465         40.719593                1           4.00             0.000516  \n",
       "5638466         40.686119                2           3.33             0.000430  \n",
       "5638467         40.665421                1           7.25             0.000935  \n",
       "5638468         40.777615                1           7.20             0.000929  \n",
       "5638469         40.763912                2           8.02             0.001035  \n",
       "\n",
       "[5638470 rows x 10 columns]"
      ]
     },
     "execution_count": 12,
     "metadata": {},
     "output_type": "execute_result"
    }
   ],
   "source": [
    "dataset"
   ]
  },
  {
   "cell_type": "markdown",
   "metadata": {},
   "source": [
    "#### 6.Define mergeable_check. This will check if two trips are mergeable with the given delay."
   ]
  },
  {
   "cell_type": "code",
   "execution_count": 13,
   "metadata": {
    "id": "WbYPZKass49v"
   },
   "outputs": [],
   "source": [
    "def mergeable_check(trip1, trip2, delay):\n",
    "    \n",
    "#     avg_speed = (trip1['Average Speed (MPH)'] + trip2['Average Speed (MPH)'])/2\n",
    "    \n",
    "    Do1o2 = distance(trip1['Pickup_latitude'], trip1['Pickup_longitude'], trip2['Pickup_latitude'], trip2['Pickup_longitude'])\n",
    "    Dd1d2 = distance(trip1['Dropoff_latitude'], trip1['Dropoff_longitude'], trip2['Dropoff_latitude'], trip2['Dropoff_longitude'])\n",
    "\n",
    "    Do2d1 = distance(trip2['Pickup_latitude'], trip2['Pickup_longitude'], trip1['Dropoff_latitude'], trip1['Dropoff_longitude'])\n",
    "    Do2d2 = distance(trip2['Pickup_latitude'], trip2['Pickup_longitude'], trip2['Dropoff_latitude'], trip2['Dropoff_longitude'])\n",
    "    \n",
    "#     To1o2 = Do1o2/avg_speed\n",
    "#     Td1d2 = Dd1d2/avg_speed\n",
    "    \n",
    "#     To2d1 = Do2d1/avg_speed\n",
    "#     To2d2 = Do2d2/avg_speed\n",
    "    \n",
    "#     print(max([Do2d1, Do2d2]) + Do1o2 + Dd1d2, \"|\", trip1['Trip_distance'] + trip2['Trip_distance'])\n",
    "    \n",
    "#     sequence1 = False\n",
    "#     sequence2 = False\n",
    "    \n",
    "#     sequence1Time = Trip1['lpep_pickup_datetime']\n",
    "#     sequence2Time = Trip2['lpep_pickup_datetime']\n",
    "    \n",
    "    dist = max([Do2d1, Do2d2]) + Do1o2 + Dd1d2\n",
    "    if (dist < trip1['Trip_distance'] + trip2['Trip_distance']):\n",
    "#         print('True', dist, trip1['Trip_distance'] + trip2['Trip_distance'])\n",
    "        return (True, (trip1['Trip_distance'] + trip2['Trip_distance']) - dist)\n",
    "    else:\n",
    "#         print('False', dist, trip1['Trip_distance'] + trip2['Trip_distance'])\n",
    "        return (False, 0)\n",
    "    \n",
    "#     if (sequence1 or sequence2): return True"
   ]
  },
  {
   "cell_type": "markdown",
   "metadata": {},
   "source": [
    "#### 7. Function to iterate through the dataset"
   ]
  },
  {
   "cell_type": "code",
   "execution_count": 24,
   "metadata": {
    "id": "OM_Yf0R8s49v",
    "scrolled": true
   },
   "outputs": [],
   "source": [
    "trips_processed = 0\n",
    "mergeable_trips = 0\n",
    "\n",
    "def shared_trips_eval(dataset, delay, length):    \n",
    "    \n",
    "    global trips_processed \n",
    "    global mergeable_trips\n",
    "    \n",
    "    rides_dict = {}\n",
    "    rides = {}\n",
    "    \n",
    "    for index1 in range(length):\n",
    "        index2 = index1 + 1\n",
    "        Trip1 = dataset.iloc[index1]\n",
    "        \n",
    "        trips_processed += 1\n",
    "        count = 0\n",
    "        while (index2 < length):\n",
    "            count += 1\n",
    "            Trip2 = dataset.iloc[index2]\n",
    "            if (Trip1['Passenger_count'] + Trip2['Passenger_count'] <= 3):\n",
    "                if (time_difference(Trip1['lpep_pickup_datetime'], Trip2['lpep_pickup_datetime']) > delay or time_difference(Trip1['Lpep_dropoff_datetime'], Trip2['Lpep_dropoff_datetime']) > delay):\n",
    "                    break\n",
    "            \n",
    "            mergeable, dist = mergeable_check(Trip1, Trip2, delay)\n",
    "            if (mergeable):\n",
    "                rides.update({index1: {dist}})\n",
    "                mergeable_trips += 1\n",
    "            index2 = index2 + 1\n",
    "        #print(index1)\n",
    "    return rides\n",
    "\n"
   ]
  },
  {
   "cell_type": "markdown",
   "metadata": {},
   "source": [
    "#### 8. Getting mergeable trips"
   ]
  },
  {
   "cell_type": "code",
   "execution_count": 34,
   "metadata": {},
   "outputs": [],
   "source": [
    "start = time.time()\n",
    "# 1 Month\n",
    "#merged_trips = shared_trips_eval(dataset[:1048576], 15.0, len(dataset[:1048576]))\n",
    "# 3 Months\n",
    "#merged_trips = shared_trips_eval(dataset[:3145728], 10.0, len(dataset[:3145728]))\n",
    "# 6 Months\n",
    "merged_trips = shared_trips_eval(dataset, 5, len(dataset))\n",
    "end = time.time()"
   ]
  },
  {
   "cell_type": "markdown",
   "metadata": {},
   "source": [
    "#### 9. Maximum Matching"
   ]
  },
  {
   "cell_type": "code",
   "execution_count": 35,
   "metadata": {
    "id": "9Kwfcylus49v"
   },
   "outputs": [],
   "source": [
    "max_matched = HopcroftKarp(merged_trips).maximum_matching(keys_only=True)"
   ]
  },
  {
   "cell_type": "markdown",
   "metadata": {},
   "source": [
    "#### 10. Output"
   ]
  },
  {
   "cell_type": "code",
   "execution_count": 38,
   "metadata": {
    "colab": {
     "base_uri": "https://localhost:8080/"
    },
    "id": "Wd__9DTQ6Y_b",
    "outputId": "47bb75fc-12fb-4d1e-8d1e-6eb978b44def"
   },
   "outputs": [],
   "source": [
    "miles_saved = (sum(max_matched.values()))\n",
    "total_distance = dataset['Trip_distance'].sum()"
   ]
  },
  {
   "cell_type": "code",
   "execution_count": 39,
   "metadata": {
    "colab": {
     "base_uri": "https://localhost:8080/"
    },
    "id": "nbjuA9Q5s49v",
    "outputId": "713ebe4a-679d-4d77-b224-3ee1b0884d07"
   },
   "outputs": [
    {
     "name": "stdout",
     "output_type": "stream",
     "text": [
      "\n",
      "Trips processed:  5243880\n",
      "MergeAble Trips:  1491545\n",
      "Time Taken to process:  16190.683989286423\n",
      "Total Miles saved:  2174318.1917225076\n",
      "Percentage Miles Saved:  13.312606200277466\n",
      "Percentage Trips Mergeable:  28.443537990953267\n"
     ]
    }
   ],
   "source": [
    "print('')\n",
    "print('Trips processed: ', trips_processed) \n",
    "print('MergeAble Trips: ', len(max_matched)) \n",
    "print('Time Taken to process: ' ,end-start)\n",
    "print('Total Miles saved: ', sum(max_matched.values()))\n",
    "print('Percentage Miles Saved: ', miles_saved/total_distance * 100)\n",
    "print('Percentage Trips Mergeable: ', len(max_matched)/trips_processed * 100)"
   ]
  },
  {
   "cell_type": "code",
   "execution_count": null,
   "metadata": {},
   "outputs": [],
   "source": []
  }
 ],
 "metadata": {
  "colab": {
   "name": "CS480 - Group Project, Green Taxi Dataset.ipynb",
   "provenance": []
  },
  "kernelspec": {
   "display_name": "Python 3",
   "language": "python",
   "name": "python3"
  },
  "language_info": {
   "codemirror_mode": {
    "name": "ipython",
    "version": 3
   },
   "file_extension": ".py",
   "mimetype": "text/x-python",
   "name": "python",
   "nbconvert_exporter": "python",
   "pygments_lexer": "ipython3",
   "version": "3.8.6"
  }
 },
 "nbformat": 4,
 "nbformat_minor": 1
}
