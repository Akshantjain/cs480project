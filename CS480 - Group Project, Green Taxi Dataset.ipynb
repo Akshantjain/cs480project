{
 "cells": [
  {
   "cell_type": "markdown",
   "metadata": {},
   "source": [
    "# CS480: Database Systems, Group Project\n",
    "### Green Taxi Datasets"
   ]
  },
  {
   "cell_type": "code",
   "execution_count": 1,
   "metadata": {},
   "outputs": [],
   "source": [
    "import matplotlib.pyplot as plt\n",
    "import pandas as pd\n",
    "import numpy as np\n",
    "from sklearn import preprocessing\n",
    "from sklearn.model_selection import train_test_split\n",
    "import datetime"
   ]
  },
  {
   "cell_type": "markdown",
   "metadata": {},
   "source": [
    "#### 1. First, we will import the data in the system"
   ]
  },
  {
   "cell_type": "code",
   "execution_count": 2,
   "metadata": {},
   "outputs": [
    {
     "name": "stdout",
     "output_type": "stream",
     "text": [
      "Index(['VendorID', 'lpep_pickup_datetime', 'Lpep_dropoff_datetime',\n",
      "       'Store_and_fwd_flag', 'RateCodeID', 'Pickup_longitude',\n",
      "       'Pickup_latitude', 'Dropoff_longitude', 'Dropoff_latitude',\n",
      "       'Passenger_count', 'Trip_distance', 'Fare_amount', 'Extra', 'MTA_tax',\n",
      "       'Tip_amount', 'Tolls_amount', 'Ehail_fee', 'improvement_surcharge',\n",
      "       'Total_amount', 'Payment_type', 'Trip_type '],\n",
      "      dtype='object')\n"
     ]
    }
   ],
   "source": [
    "green = pd.read_csv('green_tripdata_2015-01.csv')\n",
    "# Here we are storing all the column names in a array named 'columns'\n",
    "columns = green.columns\n",
    "print(columns)"
   ]
  },
  {
   "cell_type": "markdown",
   "metadata": {},
   "source": [
    "#### 2. Now, we will get the summary of the datasets and then we will clean up the dataset"
   ]
  },
  {
   "cell_type": "code",
   "execution_count": 3,
   "metadata": {},
   "outputs": [
    {
     "data": {
      "text/html": [
       "<div>\n",
       "<style scoped>\n",
       "    .dataframe tbody tr th:only-of-type {\n",
       "        vertical-align: middle;\n",
       "    }\n",
       "\n",
       "    .dataframe tbody tr th {\n",
       "        vertical-align: top;\n",
       "    }\n",
       "\n",
       "    .dataframe thead th {\n",
       "        text-align: right;\n",
       "    }\n",
       "</style>\n",
       "<table border=\"1\" class=\"dataframe\">\n",
       "  <thead>\n",
       "    <tr style=\"text-align: right;\">\n",
       "      <th></th>\n",
       "      <th>VendorID</th>\n",
       "      <th>RateCodeID</th>\n",
       "      <th>Pickup_longitude</th>\n",
       "      <th>Pickup_latitude</th>\n",
       "      <th>Dropoff_longitude</th>\n",
       "      <th>Dropoff_latitude</th>\n",
       "      <th>Passenger_count</th>\n",
       "      <th>Trip_distance</th>\n",
       "      <th>Fare_amount</th>\n",
       "      <th>Extra</th>\n",
       "      <th>MTA_tax</th>\n",
       "      <th>Tip_amount</th>\n",
       "      <th>Tolls_amount</th>\n",
       "      <th>Ehail_fee</th>\n",
       "      <th>improvement_surcharge</th>\n",
       "      <th>Total_amount</th>\n",
       "      <th>Payment_type</th>\n",
       "      <th>Trip_type</th>\n",
       "    </tr>\n",
       "  </thead>\n",
       "  <tbody>\n",
       "    <tr>\n",
       "      <th>count</th>\n",
       "      <td>1.048575e+06</td>\n",
       "      <td>1.048575e+06</td>\n",
       "      <td>1.048575e+06</td>\n",
       "      <td>1.048575e+06</td>\n",
       "      <td>1.048575e+06</td>\n",
       "      <td>1.048575e+06</td>\n",
       "      <td>1.048575e+06</td>\n",
       "      <td>1.048575e+06</td>\n",
       "      <td>1.048575e+06</td>\n",
       "      <td>1.048575e+06</td>\n",
       "      <td>1.048575e+06</td>\n",
       "      <td>1.048575e+06</td>\n",
       "      <td>1.048575e+06</td>\n",
       "      <td>0.0</td>\n",
       "      <td>1.048575e+06</td>\n",
       "      <td>1.048575e+06</td>\n",
       "      <td>1.048575e+06</td>\n",
       "      <td>1.048570e+06</td>\n",
       "    </tr>\n",
       "    <tr>\n",
       "      <th>mean</th>\n",
       "      <td>1.778683e+00</td>\n",
       "      <td>1.098100e+00</td>\n",
       "      <td>-7.381823e+01</td>\n",
       "      <td>4.068497e+01</td>\n",
       "      <td>-7.381280e+01</td>\n",
       "      <td>4.068029e+01</td>\n",
       "      <td>1.389390e+00</td>\n",
       "      <td>2.782559e+00</td>\n",
       "      <td>1.173290e+01</td>\n",
       "      <td>3.427971e-01</td>\n",
       "      <td>4.865826e-01</td>\n",
       "      <td>1.116572e+00</td>\n",
       "      <td>9.529348e-02</td>\n",
       "      <td>NaN</td>\n",
       "      <td>2.807908e-01</td>\n",
       "      <td>1.499850e+01</td>\n",
       "      <td>1.561091e+00</td>\n",
       "      <td>1.022894e+00</td>\n",
       "    </tr>\n",
       "    <tr>\n",
       "      <th>std</th>\n",
       "      <td>4.151334e-01</td>\n",
       "      <td>6.505393e-01</td>\n",
       "      <td>2.947688e+00</td>\n",
       "      <td>1.625452e+00</td>\n",
       "      <td>3.009728e+00</td>\n",
       "      <td>1.659509e+00</td>\n",
       "      <td>1.078429e+00</td>\n",
       "      <td>2.952046e+00</td>\n",
       "      <td>9.551922e+00</td>\n",
       "      <td>3.605977e-01</td>\n",
       "      <td>8.480691e-02</td>\n",
       "      <td>3.804000e+00</td>\n",
       "      <td>1.167153e+00</td>\n",
       "      <td>NaN</td>\n",
       "      <td>7.344232e-02</td>\n",
       "      <td>9.668206e+02</td>\n",
       "      <td>5.218143e-01</td>\n",
       "      <td>1.495658e-01</td>\n",
       "    </tr>\n",
       "    <tr>\n",
       "      <th>min</th>\n",
       "      <td>1.000000e+00</td>\n",
       "      <td>1.000000e+00</td>\n",
       "      <td>-7.535131e+01</td>\n",
       "      <td>0.000000e+00</td>\n",
       "      <td>-7.543967e+01</td>\n",
       "      <td>0.000000e+00</td>\n",
       "      <td>0.000000e+00</td>\n",
       "      <td>0.000000e+00</td>\n",
       "      <td>-4.000000e+02</td>\n",
       "      <td>-1.000000e+00</td>\n",
       "      <td>-5.000000e-01</td>\n",
       "      <td>-1.450000e+01</td>\n",
       "      <td>-1.816000e+01</td>\n",
       "      <td>NaN</td>\n",
       "      <td>0.000000e+00</td>\n",
       "      <td>-4.000000e+02</td>\n",
       "      <td>1.000000e+00</td>\n",
       "      <td>1.000000e+00</td>\n",
       "    </tr>\n",
       "    <tr>\n",
       "      <th>25%</th>\n",
       "      <td>2.000000e+00</td>\n",
       "      <td>1.000000e+00</td>\n",
       "      <td>-7.395934e+01</td>\n",
       "      <td>4.070041e+01</td>\n",
       "      <td>-7.396799e+01</td>\n",
       "      <td>4.070253e+01</td>\n",
       "      <td>1.000000e+00</td>\n",
       "      <td>1.010000e+00</td>\n",
       "      <td>6.000000e+00</td>\n",
       "      <td>0.000000e+00</td>\n",
       "      <td>5.000000e-01</td>\n",
       "      <td>0.000000e+00</td>\n",
       "      <td>0.000000e+00</td>\n",
       "      <td>NaN</td>\n",
       "      <td>3.000000e-01</td>\n",
       "      <td>7.800000e+00</td>\n",
       "      <td>1.000000e+00</td>\n",
       "      <td>1.000000e+00</td>\n",
       "    </tr>\n",
       "    <tr>\n",
       "      <th>50%</th>\n",
       "      <td>2.000000e+00</td>\n",
       "      <td>1.000000e+00</td>\n",
       "      <td>-7.394547e+01</td>\n",
       "      <td>4.074686e+01</td>\n",
       "      <td>-7.394550e+01</td>\n",
       "      <td>4.074789e+01</td>\n",
       "      <td>1.000000e+00</td>\n",
       "      <td>1.830000e+00</td>\n",
       "      <td>9.000000e+00</td>\n",
       "      <td>5.000000e-01</td>\n",
       "      <td>5.000000e-01</td>\n",
       "      <td>0.000000e+00</td>\n",
       "      <td>0.000000e+00</td>\n",
       "      <td>NaN</td>\n",
       "      <td>3.000000e-01</td>\n",
       "      <td>1.080000e+01</td>\n",
       "      <td>2.000000e+00</td>\n",
       "      <td>1.000000e+00</td>\n",
       "    </tr>\n",
       "    <tr>\n",
       "      <th>75%</th>\n",
       "      <td>2.000000e+00</td>\n",
       "      <td>1.000000e+00</td>\n",
       "      <td>-7.391782e+01</td>\n",
       "      <td>4.080240e+01</td>\n",
       "      <td>-7.391185e+01</td>\n",
       "      <td>4.079070e+01</td>\n",
       "      <td>1.000000e+00</td>\n",
       "      <td>3.540000e+00</td>\n",
       "      <td>1.450000e+01</td>\n",
       "      <td>5.000000e-01</td>\n",
       "      <td>5.000000e-01</td>\n",
       "      <td>1.750000e+00</td>\n",
       "      <td>0.000000e+00</td>\n",
       "      <td>NaN</td>\n",
       "      <td>3.000000e-01</td>\n",
       "      <td>1.700000e+01</td>\n",
       "      <td>2.000000e+00</td>\n",
       "      <td>1.000000e+00</td>\n",
       "    </tr>\n",
       "    <tr>\n",
       "      <th>max</th>\n",
       "      <td>2.000000e+00</td>\n",
       "      <td>9.900000e+01</td>\n",
       "      <td>0.000000e+00</td>\n",
       "      <td>4.291825e+01</td>\n",
       "      <td>0.000000e+00</td>\n",
       "      <td>4.291817e+01</td>\n",
       "      <td>9.000000e+00</td>\n",
       "      <td>8.304000e+02</td>\n",
       "      <td>8.000000e+02</td>\n",
       "      <td>1.000000e+00</td>\n",
       "      <td>8.000000e-01</td>\n",
       "      <td>4.900000e+02</td>\n",
       "      <td>8.698800e+02</td>\n",
       "      <td>NaN</td>\n",
       "      <td>3.000000e-01</td>\n",
       "      <td>9.899704e+05</td>\n",
       "      <td>5.000000e+00</td>\n",
       "      <td>2.000000e+00</td>\n",
       "    </tr>\n",
       "  </tbody>\n",
       "</table>\n",
       "</div>"
      ],
      "text/plain": [
       "           VendorID    RateCodeID  Pickup_longitude  Pickup_latitude  \\\n",
       "count  1.048575e+06  1.048575e+06      1.048575e+06     1.048575e+06   \n",
       "mean   1.778683e+00  1.098100e+00     -7.381823e+01     4.068497e+01   \n",
       "std    4.151334e-01  6.505393e-01      2.947688e+00     1.625452e+00   \n",
       "min    1.000000e+00  1.000000e+00     -7.535131e+01     0.000000e+00   \n",
       "25%    2.000000e+00  1.000000e+00     -7.395934e+01     4.070041e+01   \n",
       "50%    2.000000e+00  1.000000e+00     -7.394547e+01     4.074686e+01   \n",
       "75%    2.000000e+00  1.000000e+00     -7.391782e+01     4.080240e+01   \n",
       "max    2.000000e+00  9.900000e+01      0.000000e+00     4.291825e+01   \n",
       "\n",
       "       Dropoff_longitude  Dropoff_latitude  Passenger_count  Trip_distance  \\\n",
       "count       1.048575e+06      1.048575e+06     1.048575e+06   1.048575e+06   \n",
       "mean       -7.381280e+01      4.068029e+01     1.389390e+00   2.782559e+00   \n",
       "std         3.009728e+00      1.659509e+00     1.078429e+00   2.952046e+00   \n",
       "min        -7.543967e+01      0.000000e+00     0.000000e+00   0.000000e+00   \n",
       "25%        -7.396799e+01      4.070253e+01     1.000000e+00   1.010000e+00   \n",
       "50%        -7.394550e+01      4.074789e+01     1.000000e+00   1.830000e+00   \n",
       "75%        -7.391185e+01      4.079070e+01     1.000000e+00   3.540000e+00   \n",
       "max         0.000000e+00      4.291817e+01     9.000000e+00   8.304000e+02   \n",
       "\n",
       "        Fare_amount         Extra       MTA_tax    Tip_amount  Tolls_amount  \\\n",
       "count  1.048575e+06  1.048575e+06  1.048575e+06  1.048575e+06  1.048575e+06   \n",
       "mean   1.173290e+01  3.427971e-01  4.865826e-01  1.116572e+00  9.529348e-02   \n",
       "std    9.551922e+00  3.605977e-01  8.480691e-02  3.804000e+00  1.167153e+00   \n",
       "min   -4.000000e+02 -1.000000e+00 -5.000000e-01 -1.450000e+01 -1.816000e+01   \n",
       "25%    6.000000e+00  0.000000e+00  5.000000e-01  0.000000e+00  0.000000e+00   \n",
       "50%    9.000000e+00  5.000000e-01  5.000000e-01  0.000000e+00  0.000000e+00   \n",
       "75%    1.450000e+01  5.000000e-01  5.000000e-01  1.750000e+00  0.000000e+00   \n",
       "max    8.000000e+02  1.000000e+00  8.000000e-01  4.900000e+02  8.698800e+02   \n",
       "\n",
       "       Ehail_fee  improvement_surcharge  Total_amount  Payment_type  \\\n",
       "count        0.0           1.048575e+06  1.048575e+06  1.048575e+06   \n",
       "mean         NaN           2.807908e-01  1.499850e+01  1.561091e+00   \n",
       "std          NaN           7.344232e-02  9.668206e+02  5.218143e-01   \n",
       "min          NaN           0.000000e+00 -4.000000e+02  1.000000e+00   \n",
       "25%          NaN           3.000000e-01  7.800000e+00  1.000000e+00   \n",
       "50%          NaN           3.000000e-01  1.080000e+01  2.000000e+00   \n",
       "75%          NaN           3.000000e-01  1.700000e+01  2.000000e+00   \n",
       "max          NaN           3.000000e-01  9.899704e+05  5.000000e+00   \n",
       "\n",
       "         Trip_type   \n",
       "count  1.048570e+06  \n",
       "mean   1.022894e+00  \n",
       "std    1.495658e-01  \n",
       "min    1.000000e+00  \n",
       "25%    1.000000e+00  \n",
       "50%    1.000000e+00  \n",
       "75%    1.000000e+00  \n",
       "max    2.000000e+00  "
      ]
     },
     "execution_count": 3,
     "metadata": {},
     "output_type": "execute_result"
    }
   ],
   "source": [
    "green.describe()\n",
    "# print(green.dtypes)"
   ]
  },
  {
   "cell_type": "code",
   "execution_count": 4,
   "metadata": {},
   "outputs": [
    {
     "name": "stdout",
     "output_type": "stream",
     "text": [
      "N̲u̲m̲b̲e̲r̲ ̲o̲f̲ ̲N̲u̲l̲l̲ ̲d̲a̲t̲a̲ ̲v̲a̲l̲u̲e̲s̲ ̲i̲n̲ ̲e̲a̲c̲h̲ ̲c̲o̲l̲u̲m̲n̲s̲:\n",
      "VendorID                       0\n",
      "lpep_pickup_datetime           0\n",
      "Lpep_dropoff_datetime          0\n",
      "Store_and_fwd_flag             0\n",
      "RateCodeID                     0\n",
      "Pickup_longitude               0\n",
      "Pickup_latitude                0\n",
      "Dropoff_longitude              0\n",
      "Dropoff_latitude               0\n",
      "Passenger_count                0\n",
      "Trip_distance                  0\n",
      "Fare_amount                    0\n",
      "Extra                          0\n",
      "MTA_tax                        0\n",
      "Tip_amount                     0\n",
      "Tolls_amount                   0\n",
      "Ehail_fee                1048575\n",
      "improvement_surcharge          0\n",
      "Total_amount                   0\n",
      "Payment_type                   0\n",
      "Trip_type                      5\n",
      "dtype: int64\n",
      "\n",
      "N̲u̲m̲b̲e̲r̲ ̲o̲f̲ ̲D̲a̲t̲a̲s̲e̲t̲s̲: 1048575\n"
     ]
    }
   ],
   "source": [
    "# Getting the values which needs to be cleaned up before procedding further\n",
    "print(\"\\u0332\".join('Number of Null data values in each columns:'))\n",
    "print(green.isnull().sum())\n",
    "print('')\n",
    "print(\"\\u0332\".join('Number of Datasets:'), len(green.index))"
   ]
  },
  {
   "cell_type": "code",
   "execution_count": 5,
   "metadata": {},
   "outputs": [
    {
     "name": "stdout",
     "output_type": "stream",
     "text": [
      "N̲u̲m̲b̲e̲r̲ ̲o̲f̲ ̲N̲u̲l̲l̲ ̲d̲a̲t̲a̲ ̲v̲a̲l̲u̲e̲s̲ ̲i̲n̲ ̲e̲a̲c̲h̲ ̲c̲o̲l̲u̲m̲n̲s̲:\n",
      "VendorID                 0\n",
      "lpep_pickup_datetime     0\n",
      "Lpep_dropoff_datetime    0\n",
      "Store_and_fwd_flag       0\n",
      "RateCodeID               0\n",
      "Pickup_longitude         0\n",
      "Pickup_latitude          0\n",
      "Dropoff_longitude        0\n",
      "Dropoff_latitude         0\n",
      "Passenger_count          0\n",
      "Trip_distance            0\n",
      "Fare_amount              0\n",
      "Extra                    0\n",
      "MTA_tax                  0\n",
      "Tip_amount               0\n",
      "Tolls_amount             0\n",
      "improvement_surcharge    0\n",
      "Total_amount             0\n",
      "Payment_type             0\n",
      "Trip_type                5\n",
      "dtype: int64\n"
     ]
    }
   ],
   "source": [
    "# Since the number of null values in the 'Ehail_fee' column is equal to the number of rows in the dataset\n",
    "# Therefore, we will drop the whole column due to its irrelevance.\n",
    "\n",
    "green = green.drop(columns=['Ehail_fee'])\n",
    "print(\"\\u0332\".join('Number of Null data values in each columns:'))\n",
    "print(green.isnull().sum())"
   ]
  },
  {
   "cell_type": "code",
   "execution_count": 6,
   "metadata": {},
   "outputs": [
    {
     "data": {
      "image/png": "[encoded data removed]",
      "text/plain": [
       "<Figure size 432x288 with 1 Axes>"
      ]
     },
     "metadata": {
      "needs_background": "light"
     },
     "output_type": "display_data"
    }
   ],
   "source": [
    "# Now we will boxplot the 'Trip_type' column\n",
    "boxplot = green.boxplot(column=['Trip_type '])"
   ]
  },
  {
   "cell_type": "code",
   "execution_count": 7,
   "metadata": {},
   "outputs": [],
   "source": [
    "# In the boxplot, we can see that '2.0' is an outlier, therefore majority of the dataset have value '1'\n",
    "# So, we will replace the null values with '1'\n",
    "green['Trip_type '] = green['Trip_type '].fillna(1)"
   ]
  },
  {
   "cell_type": "code",
   "execution_count": 8,
   "metadata": {
    "scrolled": true
   },
   "outputs": [
    {
     "name": "stdout",
     "output_type": "stream",
     "text": [
      "N̲u̲m̲b̲e̲r̲ ̲o̲f̲ ̲N̲u̲l̲l̲ ̲d̲a̲t̲a̲ ̲v̲a̲l̲u̲e̲s̲ ̲i̲n̲ ̲e̲a̲c̲h̲ ̲c̲o̲l̲u̲m̲n̲s̲:\n",
      "VendorID                 0\n",
      "lpep_pickup_datetime     0\n",
      "Lpep_dropoff_datetime    0\n",
      "Store_and_fwd_flag       0\n",
      "RateCodeID               0\n",
      "Pickup_longitude         0\n",
      "Pickup_latitude          0\n",
      "Dropoff_longitude        0\n",
      "Dropoff_latitude         0\n",
      "Passenger_count          0\n",
      "Trip_distance            0\n",
      "Fare_amount              0\n",
      "Extra                    0\n",
      "MTA_tax                  0\n",
      "Tip_amount               0\n",
      "Tolls_amount             0\n",
      "improvement_surcharge    0\n",
      "Total_amount             0\n",
      "Payment_type             0\n",
      "Trip_type                0\n",
      "dtype: int64\n"
     ]
    }
   ],
   "source": [
    "# Now there are no null values in the dataset\n",
    "# Update the columns variable according to the new cleaned up value\n",
    "columns = green.columns\n",
    "print(\"\\u0332\".join('Number of Null data values in each columns:'))\n",
    "print(green.isnull().sum())"
   ]
  },
  {
   "cell_type": "markdown",
   "metadata": {},
   "source": [
    "#### 3. Now,filter out the data which we need to use for our algorithms"
   ]
  },
  {
   "cell_type": "code",
   "execution_count": 9,
   "metadata": {},
   "outputs": [
    {
     "name": "stdout",
     "output_type": "stream",
     "text": [
      "F̲i̲l̲t̲e̲r̲e̲d̲ ̲D̲a̲t̲a̲s̲e̲t̲: 940412\n"
     ]
    }
   ],
   "source": [
    "dataset = green[['VendorID', 'lpep_pickup_datetime', 'Lpep_dropoff_datetime', 'Pickup_longitude', 'Pickup_latitude', 'Passenger_count', 'Trip_distance']]\n",
    "dataset = dataset[dataset.Passenger_count < 3]\n",
    "dataset = dataset[dataset.Trip_distance != 0]\n",
    "print(\"\\u0332\".join('Filtered Dataset:'), len(dataset.index))"
   ]
  },
  {
   "cell_type": "code",
   "execution_count": 10,
   "metadata": {},
   "outputs": [
    {
     "name": "stdout",
     "output_type": "stream",
     "text": [
      "T̲o̲t̲a̲l̲ ̲D̲i̲s̲t̲a̲n̲c̲e̲ ̲T̲r̲a̲v̲e̲l̲l̲e̲d̲: 2650504.5499999993\n"
     ]
    }
   ],
   "source": [
    "print(\"\\u0332\".join('Total Distance Travelled:'), dataset['Trip_distance'].sum())"
   ]
  },
  {
   "cell_type": "code",
   "execution_count": 11,
   "metadata": {},
   "outputs": [
    {
     "data": {
      "text/html": [
       "<div>\n",
       "<style scoped>\n",
       "    .dataframe tbody tr th:only-of-type {\n",
       "        vertical-align: middle;\n",
       "    }\n",
       "\n",
       "    .dataframe tbody tr th {\n",
       "        vertical-align: top;\n",
       "    }\n",
       "\n",
       "    .dataframe thead th {\n",
       "        text-align: right;\n",
       "    }\n",
       "</style>\n",
       "<table border=\"1\" class=\"dataframe\">\n",
       "  <thead>\n",
       "    <tr style=\"text-align: right;\">\n",
       "      <th></th>\n",
       "      <th>VendorID</th>\n",
       "      <th>lpep_pickup_datetime</th>\n",
       "      <th>Lpep_dropoff_datetime</th>\n",
       "      <th>Pickup_longitude</th>\n",
       "      <th>Pickup_latitude</th>\n",
       "      <th>Passenger_count</th>\n",
       "      <th>Trip_distance</th>\n",
       "    </tr>\n",
       "  </thead>\n",
       "  <tbody>\n",
       "    <tr>\n",
       "      <th>0</th>\n",
       "      <td>2</td>\n",
       "      <td>01/01/15 0:34</td>\n",
       "      <td>01/01/15 0:38</td>\n",
       "      <td>-73.922592</td>\n",
       "      <td>40.754528</td>\n",
       "      <td>1</td>\n",
       "      <td>0.88</td>\n",
       "    </tr>\n",
       "    <tr>\n",
       "      <th>1</th>\n",
       "      <td>2</td>\n",
       "      <td>01/01/15 0:34</td>\n",
       "      <td>01/01/15 0:47</td>\n",
       "      <td>-73.952751</td>\n",
       "      <td>40.677711</td>\n",
       "      <td>1</td>\n",
       "      <td>3.08</td>\n",
       "    </tr>\n",
       "    <tr>\n",
       "      <th>2</th>\n",
       "      <td>1</td>\n",
       "      <td>01/01/15 0:34</td>\n",
       "      <td>01/01/15 0:38</td>\n",
       "      <td>-73.843010</td>\n",
       "      <td>40.719055</td>\n",
       "      <td>1</td>\n",
       "      <td>0.90</td>\n",
       "    </tr>\n",
       "    <tr>\n",
       "      <th>3</th>\n",
       "      <td>2</td>\n",
       "      <td>01/01/15 0:34</td>\n",
       "      <td>01/01/15 0:38</td>\n",
       "      <td>-73.860825</td>\n",
       "      <td>40.757793</td>\n",
       "      <td>1</td>\n",
       "      <td>0.85</td>\n",
       "    </tr>\n",
       "    <tr>\n",
       "      <th>4</th>\n",
       "      <td>2</td>\n",
       "      <td>01/01/15 0:34</td>\n",
       "      <td>01/01/15 1:09</td>\n",
       "      <td>-73.945183</td>\n",
       "      <td>40.783321</td>\n",
       "      <td>1</td>\n",
       "      <td>4.91</td>\n",
       "    </tr>\n",
       "  </tbody>\n",
       "</table>\n",
       "</div>"
      ],
      "text/plain": [
       "   VendorID lpep_pickup_datetime Lpep_dropoff_datetime  Pickup_longitude  \\\n",
       "0         2        01/01/15 0:34         01/01/15 0:38        -73.922592   \n",
       "1         2        01/01/15 0:34         01/01/15 0:47        -73.952751   \n",
       "2         1        01/01/15 0:34         01/01/15 0:38        -73.843010   \n",
       "3         2        01/01/15 0:34         01/01/15 0:38        -73.860825   \n",
       "4         2        01/01/15 0:34         01/01/15 1:09        -73.945183   \n",
       "\n",
       "   Pickup_latitude  Passenger_count  Trip_distance  \n",
       "0        40.754528                1           0.88  \n",
       "1        40.677711                1           3.08  \n",
       "2        40.719055                1           0.90  \n",
       "3        40.757793                1           0.85  \n",
       "4        40.783321                1           4.91  "
      ]
     },
     "execution_count": 11,
     "metadata": {},
     "output_type": "execute_result"
    }
   ],
   "source": [
    "dataset.head()"
   ]
  },
  {
   "cell_type": "code",
   "execution_count": 19,
   "metadata": {},
   "outputs": [
    {
     "ename": "AttributeError",
     "evalue": "'Timestamp' object has no attribute 'dtypes'",
     "output_type": "error",
     "traceback": [
      "\u001b[0;31m---------------------------------------------------------------------------\u001b[0m",
      "\u001b[0;31mAttributeError\u001b[0m                            Traceback (most recent call last)",
      "\u001b[0;32m<ipython-input-19-08c0aef7126a>\u001b[0m in \u001b[0;36m<module>\u001b[0;34m\u001b[0m\n\u001b[1;32m      1\u001b[0m \u001b[0mdate_time\u001b[0m \u001b[0;34m=\u001b[0m \u001b[0mpd\u001b[0m\u001b[0;34m.\u001b[0m\u001b[0mto_datetime\u001b[0m\u001b[0;34m(\u001b[0m\u001b[0mdataset\u001b[0m\u001b[0;34m[\u001b[0m\u001b[0;34m'lpep_pickup_datetime'\u001b[0m\u001b[0;34m]\u001b[0m\u001b[0;34m[\u001b[0m\u001b[0;36m0\u001b[0m\u001b[0;34m]\u001b[0m\u001b[0;34m)\u001b[0m\u001b[0;34m\u001b[0m\u001b[0;34m\u001b[0m\u001b[0m\n\u001b[0;32m----> 2\u001b[0;31m \u001b[0mdate_time\u001b[0m\u001b[0;34m.\u001b[0m\u001b[0mdtypes\u001b[0m\u001b[0;34m\u001b[0m\u001b[0;34m\u001b[0m\u001b[0m\n\u001b[0m",
      "\u001b[0;31mAttributeError\u001b[0m: 'Timestamp' object has no attribute 'dtypes'"
     ]
    }
   ],
   "source": [
    "date_time = pd.to_datetime(dataset['lpep_pickup_datetime'][0])\n",
    "date_time.dtypes"
   ]
  },
  {
   "cell_type": "code",
   "execution_count": null,
   "metadata": {},
   "outputs": [],
   "source": []
  },
  {
   "cell_type": "code",
   "execution_count": null,
   "metadata": {},
   "outputs": [],
   "source": []
  }
 ],
 "metadata": {
  "kernelspec": {
   "display_name": "Python 3",
   "language": "python",
   "name": "python3"
  },
  "language_info": {
   "codemirror_mode": {
    "name": "ipython",
    "version": 3
   },
   "file_extension": ".py",
   "mimetype": "text/x-python",
   "name": "python",
   "nbconvert_exporter": "python",
   "pygments_lexer": "ipython3",
   "version": "3.8.3"
  }
 },
 "nbformat": 4,
 "nbformat_minor": 4
}
